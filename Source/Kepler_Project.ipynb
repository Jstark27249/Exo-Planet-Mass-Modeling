{
 "cells": [
  {
   "cell_type": "markdown",
   "id": "0e9cef82",
   "metadata": {},
   "source": [
    "Jack and Sacha Exoplanet Project:\n",
    "\n",
    "The paper \"Cool Jupiters greatly outnumber their toasty siblings: occurrence rates\n",
    "from the Anglo-Australian Planet Search,\" comes to the conclusion that \"cool jupiters\" are more common than \"hot jupiters.\" A cool jupiter is a planet with a MJup(Jupiter mass) greater than 0.3 and an orbital period greater than 100 days. A hot jupiter is a planet with a MJup(Jupiter mass) greater than 0.3 and an orbital period less than or equal to 100 days. We are setting out to apply the test present in this paper to the larger kepler data base to see if the claim holds up.\n",
    "\n",
    "the paper: https://ui.adsabs.harvard.edu/abs/2020MNRAS.492..377W/abstract"
   ]
  },
  {
   "cell_type": "code",
   "execution_count": 1,
   "id": "fd0b6bbb",
   "metadata": {},
   "outputs": [
    {
     "name": "stdout",
     "output_type": "stream",
     "text": [
      "Num GPUs Available:  1\n"
     ]
    }
   ],
   "source": [
    "import os\n",
    "import pandas as pd\n",
    "import numpy as np\n",
    "import matplotlib.pyplot as plt\n",
    "import seaborn as sns\n",
    "%matplotlib inline\n",
    "\n",
    "#For Preprocessing\n",
    "import sklearn as sc\n",
    "from sklearn import preprocessing\n",
    "from sklearn.preprocessing import MinMaxScaler\n",
    "\n",
    "#For non GPU function acceleration\n",
    "from numba import jit\n",
    "\n",
    "\n",
    "#For Neural net training\n",
    "import tensorflow as tf\n",
    "from tensorflow.keras.models import Sequential \n",
    "from tensorflow.keras.layers import LSTM\n",
    "from tensorflow.keras.layers import Dense\n",
    "from tensorflow.keras.layers import Dropout\n",
    "import tensorflow.keras.metrics\n",
    "\n",
    "#check if gpu is availble (requires cuda toolkit and cuda deep learning library)\n",
    "print(\"Num GPUs Available: \", len(tf.config.list_physical_devices('GPU')))"
   ]
  },
  {
   "cell_type": "markdown",
   "id": "65e53d48",
   "metadata": {},
   "source": [
    "We only care about the name, stellar mass, planetary mass, radius from the star, stellar radius, temperature\n",
    "Our correletion is part of our main question of whether the majority of jupiter sized worlds are considered cold jupiters."
   ]
  },
  {
   "cell_type": "markdown",
   "id": "152e67ed",
   "metadata": {},
   "source": [
    "There was a helpful legend that labeled the names of the columns, but we had to delete the legend to get it to load because the legened was not commented out."
   ]
  },
  {
   "cell_type": "code",
   "execution_count": 2,
   "id": "a4f35532",
   "metadata": {},
   "outputs": [
    {
     "name": "stdout",
     "output_type": "stream",
     "text": [
      "data= (32112, 92)\n"
     ]
    }
   ],
   "source": [
    "data = pd.read_csv('keplerFullTable.csv')\n",
    "print(\"data=\",data.shape)\n"
   ]
  },
  {
   "cell_type": "code",
   "execution_count": 3,
   "id": "3c741ea7",
   "metadata": {},
   "outputs": [
    {
     "data": {
      "image/png": "[encoded data removed]",
      "text/plain": [
       "<Figure size 432x288 with 1 Axes>"
      ]
     },
     "metadata": {
      "needs_background": "light"
     },
     "output_type": "display_data"
    }
   ],
   "source": [
    "plt.scatter(data['st_mass'], data['st_teff'])\n",
    "plt.xlabel('stellar_mass [Solar mass]')\n",
    "plt.ylabel('stellar_effective_temperature [Kelvin]')\n",
    "plt.show() "
   ]
  },
  {
   "cell_type": "markdown",
   "id": "923fc004",
   "metadata": {},
   "source": [
    "We found a correlation between stellar mass and temperature. This is important for figuring out the planetary temperature. This corelation occurs because in a general bigger star will make the planet have a hotter temperature."
   ]
  },
  {
   "cell_type": "code",
   "execution_count": 4,
   "id": "f22491e5",
   "metadata": {},
   "outputs": [
    {
     "data": {
      "image/png": "[encoded data removed]",
      "text/plain": [
       "<Figure size 720x720 with 1 Axes>"
      ]
     },
     "metadata": {
      "needs_background": "light"
     },
     "output_type": "display_data"
    }
   ],
   "source": [
    "plt.scatter(data['st_mass'], data['pl_bmassj'])\n",
    "plt.xlabel('Stellar Mass [Solar mass]')\n",
    "plt.ylabel('Planet Mass')\n",
    "plt.gcf().set_size_inches((10, 10))\n",
    "plt.show()"
   ]
  },
  {
   "cell_type": "markdown",
   "id": "f7500dba",
   "metadata": {},
   "source": [
    "No correlation between plantary mass and stellar mass it seems, size of planet doesn't really have an impact on the the size of the star."
   ]
  },
  {
   "cell_type": "code",
   "execution_count": 5,
   "id": "aceb293f",
   "metadata": {},
   "outputs": [
    {
     "data": {
      "text/plain": [
       "80.0"
      ]
     },
     "execution_count": 5,
     "metadata": {},
     "output_type": "execute_result"
    }
   ],
   "source": [
    "data['pl_bmassj'].max()"
   ]
  },
  {
   "cell_type": "markdown",
   "id": "1dfdbc62",
   "metadata": {},
   "source": [
    "An 80 here means the most massive world is 80x jupiter which is insane."
   ]
  },
  {
   "cell_type": "markdown",
   "id": "ec7afe25",
   "metadata": {},
   "source": [
    "We originally had a much smaller piece of the data set that was much easier to work with in pandas but lacked some crucial information with regards to labeling."
   ]
  },
  {
   "cell_type": "markdown",
   "id": "84091b88",
   "metadata": {},
   "source": [
    "We moved to the big proper full kepler data base to see if the paper's claim helped up in a different context.\n"
   ]
  },
  {
   "cell_type": "markdown",
   "id": "9ef48d30",
   "metadata": {},
   "source": [
    "Week 5:\n",
    "This week we are writing a function the function gives us a list of all the jupiter class worlds as defined by the paper. According to the paper a jupiter class world is a plaent with a 100 orabital perdiod minimum and 0.3Mjup(jupiter mass). The paper did not use temperature for there analysis."
   ]
  },
  {
   "cell_type": "code",
   "execution_count": 6,
   "id": "394573a5",
   "metadata": {},
   "outputs": [
    {
     "data": {
      "text/html": [
       "<div>\n",
       "<style scoped>\n",
       "    .dataframe tbody tr th:only-of-type {\n",
       "        vertical-align: middle;\n",
       "    }\n",
       "\n",
       "    .dataframe tbody tr th {\n",
       "        vertical-align: top;\n",
       "    }\n",
       "\n",
       "    .dataframe thead th {\n",
       "        text-align: right;\n",
       "    }\n",
       "</style>\n",
       "<table border=\"1\" class=\"dataframe\">\n",
       "  <thead>\n",
       "    <tr style=\"text-align: right;\">\n",
       "      <th></th>\n",
       "      <th>pl_name</th>\n",
       "      <th>pl_bmassj</th>\n",
       "      <th>pl_orbper</th>\n",
       "    </tr>\n",
       "  </thead>\n",
       "  <tbody>\n",
       "    <tr>\n",
       "      <th>0</th>\n",
       "      <td>11 Com b</td>\n",
       "      <td>19.40</td>\n",
       "      <td>326.03000</td>\n",
       "    </tr>\n",
       "    <tr>\n",
       "      <th>1</th>\n",
       "      <td>11 Com b</td>\n",
       "      <td>17.10</td>\n",
       "      <td>NaN</td>\n",
       "    </tr>\n",
       "    <tr>\n",
       "      <th>2</th>\n",
       "      <td>11 UMi b</td>\n",
       "      <td>10.80</td>\n",
       "      <td>NaN</td>\n",
       "    </tr>\n",
       "    <tr>\n",
       "      <th>3</th>\n",
       "      <td>11 UMi b</td>\n",
       "      <td>14.74</td>\n",
       "      <td>516.21997</td>\n",
       "    </tr>\n",
       "    <tr>\n",
       "      <th>4</th>\n",
       "      <td>11 UMi b</td>\n",
       "      <td>10.50</td>\n",
       "      <td>516.22000</td>\n",
       "    </tr>\n",
       "    <tr>\n",
       "      <th>...</th>\n",
       "      <td>...</td>\n",
       "      <td>...</td>\n",
       "      <td>...</td>\n",
       "    </tr>\n",
       "    <tr>\n",
       "      <th>32107</th>\n",
       "      <td>ups And d</td>\n",
       "      <td>4.10</td>\n",
       "      <td>1282.41000</td>\n",
       "    </tr>\n",
       "    <tr>\n",
       "      <th>32108</th>\n",
       "      <td>ups And d</td>\n",
       "      <td>10.25</td>\n",
       "      <td>1281.50700</td>\n",
       "    </tr>\n",
       "    <tr>\n",
       "      <th>32109</th>\n",
       "      <td>ups Leo b</td>\n",
       "      <td>0.51</td>\n",
       "      <td>385.20000</td>\n",
       "    </tr>\n",
       "    <tr>\n",
       "      <th>32110</th>\n",
       "      <td>xi Aql b</td>\n",
       "      <td>2.02</td>\n",
       "      <td>NaN</td>\n",
       "    </tr>\n",
       "    <tr>\n",
       "      <th>32111</th>\n",
       "      <td>xi Aql b</td>\n",
       "      <td>2.80</td>\n",
       "      <td>136.75000</td>\n",
       "    </tr>\n",
       "  </tbody>\n",
       "</table>\n",
       "<p>32112 rows × 3 columns</p>\n",
       "</div>"
      ],
      "text/plain": [
       "         pl_name  pl_bmassj   pl_orbper\n",
       "0       11 Com b      19.40   326.03000\n",
       "1       11 Com b      17.10         NaN\n",
       "2       11 UMi b      10.80         NaN\n",
       "3       11 UMi b      14.74   516.21997\n",
       "4       11 UMi b      10.50   516.22000\n",
       "...          ...        ...         ...\n",
       "32107  ups And d       4.10  1282.41000\n",
       "32108  ups And d      10.25  1281.50700\n",
       "32109  ups Leo b       0.51   385.20000\n",
       "32110   xi Aql b       2.02         NaN\n",
       "32111   xi Aql b       2.80   136.75000\n",
       "\n",
       "[32112 rows x 3 columns]"
      ]
     },
     "execution_count": 6,
     "metadata": {},
     "output_type": "execute_result"
    }
   ],
   "source": [
    "skep = data[['pl_name','pl_bmassj', 'pl_orbper']].copy()\n",
    "skep"
   ]
  },
  {
   "cell_type": "code",
   "execution_count": 7,
   "id": "268aad7b",
   "metadata": {},
   "outputs": [
    {
     "name": "stdout",
     "output_type": "stream",
     "text": [
      "<class 'pandas.core.frame.DataFrame'>\n",
      "RangeIndex: 32112 entries, 0 to 32111\n",
      "Data columns (total 3 columns):\n",
      " #   Column     Non-Null Count  Dtype  \n",
      "---  ------     --------------  -----  \n",
      " 0   pl_name    32112 non-null  object \n",
      " 1   pl_bmassj  4617 non-null   float64\n",
      " 2   pl_orbper  29314 non-null  float64\n",
      "dtypes: float64(2), object(1)\n",
      "memory usage: 752.8+ KB\n"
     ]
    }
   ],
   "source": [
    "skep.info()"
   ]
  },
  {
   "cell_type": "code",
   "execution_count": 8,
   "id": "8780da55",
   "metadata": {},
   "outputs": [
    {
     "data": {
      "text/plain": [
       "(32112, 3)"
      ]
     },
     "execution_count": 8,
     "metadata": {},
     "output_type": "execute_result"
    }
   ],
   "source": [
    "skep.shape"
   ]
  },
  {
   "cell_type": "markdown",
   "id": "1040fdff",
   "metadata": {},
   "source": [
    "These are values that we need for the project. There are 32112 rows by 3 columns. The pl_name column is the name of the planet, the pl_bmassj is the JMup of the planet, and the pl_orbper is the orbital period in days."
   ]
  },
  {
   "cell_type": "code",
   "execution_count": 9,
   "id": "cb201396",
   "metadata": {},
   "outputs": [
    {
     "data": {
      "text/plain": [
       "pl_name       0.000000\n",
       "pl_bmassj    85.622197\n",
       "pl_orbper     8.713254\n",
       "dtype: float64"
      ]
     },
     "execution_count": 9,
     "metadata": {},
     "output_type": "execute_result"
    }
   ],
   "source": [
    "(skep.isna().sum() / len(data)* 100)"
   ]
  },
  {
   "cell_type": "markdown",
   "id": "074d58cb",
   "metadata": {},
   "source": [
    "NaNs in the data:\n",
    "\n",
    "85% of the planets in the table have an unown mass ie NaN. We are going to throw out these rows with NaN, 15% of the full kepler data base is still almost 5000 exo planets, plently of planets to look at. We will also throw out any planet that either has a unknown orbital period or a orbital period less than 100 days and any planet with a mass below or equal to 0.3 jupiters(MJup). These are the same data parameters the paper we are replicated used to determine cold jupiters.\n",
    "\n",
    "Outliers:\n",
    "\n",
    "An outlier we set out to remove are brown dwarfs. They are something between a star and a planet and are not what this project is looking for."
   ]
  },
  {
   "cell_type": "code",
   "execution_count": 10,
   "id": "674cf03e",
   "metadata": {},
   "outputs": [
    {
     "data": {
      "text/html": [
       "<div>\n",
       "<style scoped>\n",
       "    .dataframe tbody tr th:only-of-type {\n",
       "        vertical-align: middle;\n",
       "    }\n",
       "\n",
       "    .dataframe tbody tr th {\n",
       "        vertical-align: top;\n",
       "    }\n",
       "\n",
       "    .dataframe thead th {\n",
       "        text-align: right;\n",
       "    }\n",
       "</style>\n",
       "<table border=\"1\" class=\"dataframe\">\n",
       "  <thead>\n",
       "    <tr style=\"text-align: right;\">\n",
       "      <th></th>\n",
       "      <th>pl_name</th>\n",
       "      <th>pl_bmassj</th>\n",
       "      <th>pl_orbper</th>\n",
       "    </tr>\n",
       "  </thead>\n",
       "  <tbody>\n",
       "    <tr>\n",
       "      <th>4</th>\n",
       "      <td>11 UMi b</td>\n",
       "      <td>10.500</td>\n",
       "      <td>516.220</td>\n",
       "    </tr>\n",
       "    <tr>\n",
       "      <th>6</th>\n",
       "      <td>14 And b</td>\n",
       "      <td>4.800</td>\n",
       "      <td>185.840</td>\n",
       "    </tr>\n",
       "    <tr>\n",
       "      <th>7</th>\n",
       "      <td>14 Her b</td>\n",
       "      <td>4.850</td>\n",
       "      <td>1766.410</td>\n",
       "    </tr>\n",
       "    <tr>\n",
       "      <th>8</th>\n",
       "      <td>14 Her b</td>\n",
       "      <td>4.890</td>\n",
       "      <td>1724.000</td>\n",
       "    </tr>\n",
       "    <tr>\n",
       "      <th>9</th>\n",
       "      <td>14 Her b</td>\n",
       "      <td>4.975</td>\n",
       "      <td>1766.000</td>\n",
       "    </tr>\n",
       "    <tr>\n",
       "      <th>...</th>\n",
       "      <td>...</td>\n",
       "      <td>...</td>\n",
       "      <td>...</td>\n",
       "    </tr>\n",
       "    <tr>\n",
       "      <th>32106</th>\n",
       "      <td>ups And d</td>\n",
       "      <td>3.950</td>\n",
       "      <td>1274.600</td>\n",
       "    </tr>\n",
       "    <tr>\n",
       "      <th>32107</th>\n",
       "      <td>ups And d</td>\n",
       "      <td>4.100</td>\n",
       "      <td>1282.410</td>\n",
       "    </tr>\n",
       "    <tr>\n",
       "      <th>32108</th>\n",
       "      <td>ups And d</td>\n",
       "      <td>10.250</td>\n",
       "      <td>1281.507</td>\n",
       "    </tr>\n",
       "    <tr>\n",
       "      <th>32109</th>\n",
       "      <td>ups Leo b</td>\n",
       "      <td>0.510</td>\n",
       "      <td>385.200</td>\n",
       "    </tr>\n",
       "    <tr>\n",
       "      <th>32111</th>\n",
       "      <td>xi Aql b</td>\n",
       "      <td>2.800</td>\n",
       "      <td>136.750</td>\n",
       "    </tr>\n",
       "  </tbody>\n",
       "</table>\n",
       "<p>1126 rows × 3 columns</p>\n",
       "</div>"
      ],
      "text/plain": [
       "         pl_name  pl_bmassj  pl_orbper\n",
       "4       11 UMi b     10.500    516.220\n",
       "6       14 And b      4.800    185.840\n",
       "7       14 Her b      4.850   1766.410\n",
       "8       14 Her b      4.890   1724.000\n",
       "9       14 Her b      4.975   1766.000\n",
       "...          ...        ...        ...\n",
       "32106  ups And d      3.950   1274.600\n",
       "32107  ups And d      4.100   1282.410\n",
       "32108  ups And d     10.250   1281.507\n",
       "32109  ups Leo b      0.510    385.200\n",
       "32111   xi Aql b      2.800    136.750\n",
       "\n",
       "[1126 rows x 3 columns]"
      ]
     },
     "execution_count": 10,
     "metadata": {},
     "output_type": "execute_result"
    }
   ],
   "source": [
    "skep2 = skep[skep['pl_bmassj'] > 0.3] #jupiter mass\n",
    "skep2 = skep2[skep2['pl_bmassj'] < 13] #gets rid of brown dwarfs which are 13 jupiter masses or higher\n",
    "skep2 = skep2[skep2['pl_orbper'] > 100] #orbital period\n",
    "skep2"
   ]
  },
  {
   "cell_type": "markdown",
   "id": "d549be82",
   "metadata": {},
   "source": [
    "These are all of planets that meet the criteria of a cool jupiter, 1126 planets in total."
   ]
  },
  {
   "cell_type": "markdown",
   "id": "8be3b587",
   "metadata": {},
   "source": [
    "Week 6:\n",
    "\n",
    "We also need the number of hot jupiters to compare which is more common between hot and cold jupiters. A hot jupiter has an orbital period greater than or equal to 100 days with the same MJup constraints. We also got rid of brown dwarfs which are 13 jupiter masses or higher because they are not really just planets anymore, something between a star and a planet."
   ]
  },
  {
   "cell_type": "code",
   "execution_count": 11,
   "id": "7ecd5386",
   "metadata": {},
   "outputs": [
    {
     "data": {
      "text/html": [
       "<div>\n",
       "<style scoped>\n",
       "    .dataframe tbody tr th:only-of-type {\n",
       "        vertical-align: middle;\n",
       "    }\n",
       "\n",
       "    .dataframe tbody tr th {\n",
       "        vertical-align: top;\n",
       "    }\n",
       "\n",
       "    .dataframe thead th {\n",
       "        text-align: right;\n",
       "    }\n",
       "</style>\n",
       "<table border=\"1\" class=\"dataframe\">\n",
       "  <thead>\n",
       "    <tr style=\"text-align: right;\">\n",
       "      <th></th>\n",
       "      <th>pl_name</th>\n",
       "      <th>pl_bmassj</th>\n",
       "      <th>pl_orbper</th>\n",
       "    </tr>\n",
       "  </thead>\n",
       "  <tbody>\n",
       "    <tr>\n",
       "      <th>27</th>\n",
       "      <td>24 Boo b</td>\n",
       "      <td>0.9100</td>\n",
       "      <td>30.350600</td>\n",
       "    </tr>\n",
       "    <tr>\n",
       "      <th>59</th>\n",
       "      <td>51 Peg b</td>\n",
       "      <td>0.4640</td>\n",
       "      <td>4.230797</td>\n",
       "    </tr>\n",
       "    <tr>\n",
       "      <th>60</th>\n",
       "      <td>51 Peg b</td>\n",
       "      <td>0.4720</td>\n",
       "      <td>4.230785</td>\n",
       "    </tr>\n",
       "    <tr>\n",
       "      <th>61</th>\n",
       "      <td>51 Peg b</td>\n",
       "      <td>0.4680</td>\n",
       "      <td>4.230770</td>\n",
       "    </tr>\n",
       "    <tr>\n",
       "      <th>62</th>\n",
       "      <td>51 Peg b</td>\n",
       "      <td>0.4600</td>\n",
       "      <td>4.231000</td>\n",
       "    </tr>\n",
       "    <tr>\n",
       "      <th>...</th>\n",
       "      <td>...</td>\n",
       "      <td>...</td>\n",
       "      <td>...</td>\n",
       "    </tr>\n",
       "    <tr>\n",
       "      <th>32092</th>\n",
       "      <td>ups And b</td>\n",
       "      <td>0.6800</td>\n",
       "      <td>4.611000</td>\n",
       "    </tr>\n",
       "    <tr>\n",
       "      <th>32093</th>\n",
       "      <td>ups And b</td>\n",
       "      <td>0.6900</td>\n",
       "      <td>4.617080</td>\n",
       "    </tr>\n",
       "    <tr>\n",
       "      <th>32094</th>\n",
       "      <td>ups And b</td>\n",
       "      <td>0.6720</td>\n",
       "      <td>4.617136</td>\n",
       "    </tr>\n",
       "    <tr>\n",
       "      <th>32095</th>\n",
       "      <td>ups And b</td>\n",
       "      <td>0.6750</td>\n",
       "      <td>4.617122</td>\n",
       "    </tr>\n",
       "    <tr>\n",
       "      <th>32096</th>\n",
       "      <td>ups And b</td>\n",
       "      <td>0.6876</td>\n",
       "      <td>4.617033</td>\n",
       "    </tr>\n",
       "  </tbody>\n",
       "</table>\n",
       "<p>1488 rows × 3 columns</p>\n",
       "</div>"
      ],
      "text/plain": [
       "         pl_name  pl_bmassj  pl_orbper\n",
       "27      24 Boo b     0.9100  30.350600\n",
       "59      51 Peg b     0.4640   4.230797\n",
       "60      51 Peg b     0.4720   4.230785\n",
       "61      51 Peg b     0.4680   4.230770\n",
       "62      51 Peg b     0.4600   4.231000\n",
       "...          ...        ...        ...\n",
       "32092  ups And b     0.6800   4.611000\n",
       "32093  ups And b     0.6900   4.617080\n",
       "32094  ups And b     0.6720   4.617136\n",
       "32095  ups And b     0.6750   4.617122\n",
       "32096  ups And b     0.6876   4.617033\n",
       "\n",
       "[1488 rows x 3 columns]"
      ]
     },
     "execution_count": 11,
     "metadata": {},
     "output_type": "execute_result"
    }
   ],
   "source": [
    "skep3 = skep[skep['pl_bmassj'] > 0.3] #jupiter mass\n",
    "skep3 = skep3[skep3['pl_bmassj'] < 13] #gets rid of brown dwarfs which are 13 jupiter masses or higher\n",
    "skep3 = skep3[skep3['pl_orbper'] <= 100] #orbital period\n",
    "skep3"
   ]
  },
  {
   "cell_type": "markdown",
   "id": "9fc33729",
   "metadata": {},
   "source": [
    "Now we got hot jupiters aswell so time to make a pie chart to compare which is more common."
   ]
  },
  {
   "cell_type": "code",
   "execution_count": 12,
   "id": "7ab2fafa",
   "metadata": {},
   "outputs": [],
   "source": [
    "data = len(skep)\n",
    "cj = len(skep2)\n",
    "hj = len(skep3)"
   ]
  },
  {
   "cell_type": "markdown",
   "id": "f384fc9e",
   "metadata": {},
   "source": [
    "Pie chart showing the percentage of hot jupiters to cold jupiters to other kepler planetary objects."
   ]
  },
  {
   "cell_type": "code",
   "execution_count": 13,
   "id": "0261aa36",
   "metadata": {},
   "outputs": [
    {
     "data": {
      "image/png": "[encoded data removed]",
      "text/plain": [
       "<Figure size 720x720 with 1 Axes>"
      ]
     },
     "metadata": {},
     "output_type": "display_data"
    }
   ],
   "source": [
    "a = cj/data\n",
    "b = hj/data\n",
    "c = (data-(cj+hj))/len(skep)\n",
    "y = np.array([a, b, c])\n",
    "plt.pie(y, explode=[0.2,0.2,0], labels=['cold jupiters', 'hot jupiters', 'kepler non jupiter class planets'], shadow = True, autopct='%1.1f%%')\n",
    "plt.gcf().set_size_inches((10, 10))\n",
    "plt.show()"
   ]
  },
  {
   "cell_type": "markdown",
   "id": "58b98fd2",
   "metadata": {},
   "source": [
    "Scatter plot for hot and cold jupiters"
   ]
  },
  {
   "cell_type": "markdown",
   "id": "e7a6d93b",
   "metadata": {},
   "source": [
    "Looks like there is a visual outlier for oribital days, these three values are probably fine but makes the graph hard to read. 402000000.0, 8040000.0, and 1790000 are excluded in the graph only for visual reasons."
   ]
  },
  {
   "cell_type": "code",
   "execution_count": 14,
   "id": "de9c5fcd",
   "metadata": {},
   "outputs": [],
   "source": [
    "skep2p = skep2[skep2['pl_orbper'] < 1790000.0]"
   ]
  },
  {
   "cell_type": "markdown",
   "id": "ac890d65",
   "metadata": {},
   "source": [
    "Cold Jupiter Scatter Plot"
   ]
  },
  {
   "cell_type": "code",
   "execution_count": 15,
   "id": "70304af5",
   "metadata": {},
   "outputs": [
    {
     "data": {
      "image/png": "[encoded data removed]",
      "text/plain": [
       "<Figure size 720x720 with 1 Axes>"
      ]
     },
     "metadata": {
      "needs_background": "light"
     },
     "output_type": "display_data"
    }
   ],
   "source": [
    "plt.scatter(skep2p['pl_bmassj'], skep2p['pl_orbper'])\n",
    "plt.xlabel('jupiter mass (MJup)')\n",
    "plt.ylabel('orbital radius (days)')\n",
    "plt.title('Cold Jupiters')\n",
    "plt.gcf().set_size_inches((10, 10))\n",
    "plt.show() "
   ]
  },
  {
   "cell_type": "markdown",
   "id": "efa2d409",
   "metadata": {},
   "source": [
    "Hot Jupiter Scatter Plot"
   ]
  },
  {
   "cell_type": "code",
   "execution_count": 16,
   "id": "24f73a6f",
   "metadata": {},
   "outputs": [
    {
     "data": {
      "image/png": "[encoded data removed]",
      "text/plain": [
       "<Figure size 720x720 with 1 Axes>"
      ]
     },
     "metadata": {
      "needs_background": "light"
     },
     "output_type": "display_data"
    }
   ],
   "source": [
    "plt.scatter(skep3['pl_bmassj'], skep3['pl_orbper'], c = 'red')\n",
    "plt.xlabel('jupiter mass (MJup)')\n",
    "plt.ylabel('orbital radius (days)')\n",
    "plt.title('Hot Jupiters')\n",
    "plt.gcf().set_size_inches((10, 10))\n",
    "plt.show() "
   ]
  },
  {
   "cell_type": "code",
   "execution_count": 17,
   "id": "3da9e14e",
   "metadata": {},
   "outputs": [
    {
     "data": {
      "image/png": "[encoded data removed]",
      "text/plain": [
       "<Figure size 720x720 with 1 Axes>"
      ]
     },
     "metadata": {
      "needs_background": "light"
     },
     "output_type": "display_data"
    }
   ],
   "source": [
    "plt.scatter(skep2p['pl_bmassj'], skep2p['pl_orbper'], label = 'cold')\n",
    "plt.scatter(skep3['pl_bmassj'], skep3['pl_orbper'], c = 'red', label = 'hot')\n",
    "plt.xlabel('jupiter mass (MJup)')\n",
    "plt.ylabel('orbital radius (days)')\n",
    "plt.title('Hot and Cold Jupiters')\n",
    "plt.legend(loc='upper left')\n",
    "plt.gcf().set_size_inches((10, 10))\n",
    "plt.show() "
   ]
  },
  {
   "cell_type": "markdown",
   "id": "7046369d",
   "metadata": {},
   "source": [
    "Conclusion:\n",
    "    \n",
    "These results show that the number of hot and cold jupiters is almost the same, with ther being slightly more hot jupiters, which contradicts the paper. This may be because of how many planets we had to exclude due to an unkown mass which was a large percentage of the data base. We were also disapointed how hot and cold jupiters are not defined by stellar temperature, which we think would have an impact on the disscusion of which is more common. It can also be seen that there are far more planets that are not jupiters then are."
   ]
  },
  {
   "cell_type": "code",
   "execution_count": 18,
   "id": "4a6277d5",
   "metadata": {},
   "outputs": [],
   "source": [
    "cleanSkep = skep.dropna()\n",
    "dfTrain = cleanSkep.iloc[:, lambda df: [1]]\n",
    "dfTrain = dfTrain.dropna()"
   ]
  },
  {
   "cell_type": "code",
   "execution_count": 19,
   "id": "195fc508",
   "metadata": {},
   "outputs": [
    {
     "name": "stdout",
     "output_type": "stream",
     "text": [
      "<class 'pandas.core.frame.DataFrame'>\n",
      "Int64Index: 4134 entries, 0 to 32111\n",
      "Data columns (total 1 columns):\n",
      " #   Column     Non-Null Count  Dtype  \n",
      "---  ------     --------------  -----  \n",
      " 0   pl_bmassj  4134 non-null   float64\n",
      "dtypes: float64(1)\n",
      "memory usage: 64.6 KB\n",
      "       pl_bmassj\n",
      "0          19.40\n",
      "3          14.74\n",
      "4          10.50\n",
      "6           4.80\n",
      "7           4.85\n",
      "...          ...\n",
      "32106       3.95\n",
      "32107       4.10\n",
      "32108      10.25\n",
      "32109       0.51\n",
      "32111       2.80\n",
      "\n",
      "[4134 rows x 1 columns]\n"
     ]
    }
   ],
   "source": [
    "dfTrain.info()\n",
    "\n",
    "print(dfTrain)"
   ]
  },
  {
   "cell_type": "code",
   "execution_count": 20,
   "id": "2721143c",
   "metadata": {},
   "outputs": [
    {
     "data": {
      "text/plain": [
       "(4134, 1)"
      ]
     },
     "execution_count": 20,
     "metadata": {},
     "output_type": "execute_result"
    }
   ],
   "source": [
    "scaler = MinMaxScaler(feature_range =(0,1))\n",
    "scaled_df = scaler.fit_transform(dfTrain)\n",
    "scaled_df.shape"
   ]
  },
  {
   "cell_type": "code",
   "execution_count": 21,
   "id": "a66c1df8",
   "metadata": {},
   "outputs": [],
   "source": [
    "X_train = []\n",
    "y_train = []\n",
    "\n",
    "for i in range (10,4134): #1 : timestep //length of data\n",
    "    X_train.append(scaled_df[i-10:i,0]) \n",
    "    y_train.append(scaled_df[i,0])\n",
    "\n",
    "X_train,y_train = np.array(X_train),np.array(y_train)"
   ]
  },
  {
   "cell_type": "code",
   "execution_count": 22,
   "id": "81157ca9",
   "metadata": {},
   "outputs": [
    {
     "name": "stdout",
     "output_type": "stream",
     "text": [
      "(4124, 10, 1)\n"
     ]
    }
   ],
   "source": [
    "X_train = np.reshape(X_train,(X_train.shape[0], X_train.shape[1], 1))\n",
    "print(X_train.shape)"
   ]
  },
  {
   "cell_type": "markdown",
   "id": "fd7b05dc",
   "metadata": {},
   "source": [
    "We decided to use an LSTM as they are highly capable at at advanced value interpolaiton with a high degree of accuracy. This is because our original data set had a lot of Nans (85% for the jupiter masses) which gave us rather poor prediction capabilities. "
   ]
  },
  {
   "cell_type": "code",
   "execution_count": 23,
   "id": "a8c489bb",
   "metadata": {},
   "outputs": [],
   "source": [
    "#initializing the RNN\n",
    "regressor = Sequential()\n",
    "\n",
    "\n",
    "#Using LSTM (I tried a few other RNN types but this seemed to work the best)\n",
    "#Adding the first layer LSTM and some Dropout Regularisations\n",
    "regressor.add(LSTM(units = 100, return_sequences= True, input_shape = (X_train.shape[1], 1)))\n",
    "regressor.add(Dropout(0.2))\n",
    "\n",
    "#Adding the second layer LSTM and some Dropout Regularisations\n",
    "regressor.add(LSTM(units = 100, return_sequences= True))\n",
    "regressor.add(Dropout(0.2))\n",
    "\n",
    "\n",
    "#Adding the Third layer LSTM and some Dropout Regularisations\n",
    "regressor.add(LSTM(units = 100, return_sequences= True))\n",
    "regressor.add(Dropout(0.2))\n",
    "\n",
    "#Adding the Fourth Layer LSTM and some Dropout Regularisations\n",
    "regressor.add(LSTM(units = 100, return_sequences= True))\n",
    "regressor.add(Dropout(0.2))\n",
    "\n",
    "#Adding the Fifth and final layer layer LSTM and some Dropout Regularisations\n",
    "regressor.add(LSTM(units = 100, return_sequences= False))\n",
    "regressor.add(Dropout(0.2))\n",
    "#adds a denisty layer with 1 unit\n",
    "regressor.add(Dense(units = 1))\n",
    "\n",
    "#compiles model using adamax optimizer and includes accuracy metric and mean squared error\n",
    "#Tried several other options adamax did the best with the next best being adam\n",
    "regressor.compile(optimizer ='Adam', loss = 'mean_squared_error', metrics=['accuracy'])"
   ]
  },
  {
   "cell_type": "code",
   "execution_count": 24,
   "id": "d85da29c",
   "metadata": {},
   "outputs": [
    {
     "name": "stdout",
     "output_type": "stream",
     "text": [
      "Epoch 1/250\n",
      "129/129 - 7s - loss: 0.0021 - accuracy: 2.4248e-04 - 7s/epoch - 58ms/step\n",
      "Epoch 2/250\n",
      "129/129 - 1s - loss: 0.0021 - accuracy: 2.4248e-04 - 1s/epoch - 10ms/step\n",
      "Epoch 3/250\n",
      "129/129 - 1s - loss: 0.0020 - accuracy: 2.4248e-04 - 1s/epoch - 10ms/step\n",
      "Epoch 4/250\n",
      "129/129 - 1s - loss: 0.0020 - accuracy: 2.4248e-04 - 1s/epoch - 10ms/step\n",
      "Epoch 5/250\n",
      "129/129 - 1s - loss: 0.0018 - accuracy: 2.4248e-04 - 1s/epoch - 10ms/step\n",
      "Epoch 6/250\n",
      "129/129 - 1s - loss: 0.0018 - accuracy: 2.4248e-04 - 1s/epoch - 10ms/step\n",
      "Epoch 7/250\n",
      "129/129 - 1s - loss: 0.0017 - accuracy: 2.4248e-04 - 1s/epoch - 10ms/step\n",
      "Epoch 8/250\n",
      "129/129 - 1s - loss: 0.0017 - accuracy: 2.4248e-04 - 1s/epoch - 10ms/step\n",
      "Epoch 9/250\n",
      "129/129 - 1s - loss: 0.0017 - accuracy: 2.4248e-04 - 1s/epoch - 10ms/step\n",
      "Epoch 10/250\n",
      "129/129 - 1s - loss: 0.0017 - accuracy: 2.4248e-04 - 1s/epoch - 10ms/step\n",
      "Epoch 11/250\n",
      "129/129 - 1s - loss: 0.0017 - accuracy: 2.4248e-04 - 1s/epoch - 10ms/step\n",
      "Epoch 12/250\n",
      "129/129 - 1s - loss: 0.0017 - accuracy: 2.4248e-04 - 1s/epoch - 10ms/step\n",
      "Epoch 13/250\n",
      "129/129 - 1s - loss: 0.0017 - accuracy: 2.4248e-04 - 1s/epoch - 10ms/step\n",
      "Epoch 14/250\n",
      "129/129 - 1s - loss: 0.0017 - accuracy: 2.4248e-04 - 1s/epoch - 10ms/step\n",
      "Epoch 15/250\n",
      "129/129 - 1s - loss: 0.0017 - accuracy: 2.4248e-04 - 1s/epoch - 10ms/step\n",
      "Epoch 16/250\n",
      "129/129 - 1s - loss: 0.0017 - accuracy: 2.4248e-04 - 1s/epoch - 10ms/step\n",
      "Epoch 17/250\n",
      "129/129 - 1s - loss: 0.0017 - accuracy: 2.4248e-04 - 1s/epoch - 10ms/step\n",
      "Epoch 18/250\n",
      "129/129 - 1s - loss: 0.0017 - accuracy: 2.4248e-04 - 1s/epoch - 10ms/step\n",
      "Epoch 19/250\n",
      "129/129 - 1s - loss: 0.0017 - accuracy: 2.4248e-04 - 1s/epoch - 10ms/step\n",
      "Epoch 20/250\n",
      "129/129 - 1s - loss: 0.0017 - accuracy: 2.4248e-04 - 1s/epoch - 10ms/step\n",
      "Epoch 21/250\n",
      "129/129 - 1s - loss: 0.0016 - accuracy: 2.4248e-04 - 1s/epoch - 10ms/step\n",
      "Epoch 22/250\n",
      "129/129 - 1s - loss: 0.0017 - accuracy: 2.4248e-04 - 1s/epoch - 10ms/step\n",
      "Epoch 23/250\n",
      "129/129 - 1s - loss: 0.0017 - accuracy: 2.4248e-04 - 1s/epoch - 10ms/step\n",
      "Epoch 24/250\n",
      "129/129 - 1s - loss: 0.0017 - accuracy: 2.4248e-04 - 1s/epoch - 10ms/step\n",
      "Epoch 25/250\n",
      "129/129 - 1s - loss: 0.0016 - accuracy: 2.4248e-04 - 1s/epoch - 10ms/step\n",
      "Epoch 26/250\n",
      "129/129 - 1s - loss: 0.0016 - accuracy: 2.4248e-04 - 1s/epoch - 10ms/step\n",
      "Epoch 27/250\n",
      "129/129 - 1s - loss: 0.0016 - accuracy: 2.4248e-04 - 1s/epoch - 11ms/step\n",
      "Epoch 28/250\n",
      "129/129 - 1s - loss: 0.0016 - accuracy: 2.4248e-04 - 1s/epoch - 10ms/step\n",
      "Epoch 29/250\n",
      "129/129 - 1s - loss: 0.0017 - accuracy: 2.4248e-04 - 1s/epoch - 10ms/step\n",
      "Epoch 30/250\n",
      "129/129 - 1s - loss: 0.0017 - accuracy: 2.4248e-04 - 1s/epoch - 10ms/step\n",
      "Epoch 31/250\n",
      "129/129 - 1s - loss: 0.0017 - accuracy: 2.4248e-04 - 1s/epoch - 10ms/step\n",
      "Epoch 32/250\n",
      "129/129 - 1s - loss: 0.0016 - accuracy: 2.4248e-04 - 1s/epoch - 10ms/step\n",
      "Epoch 33/250\n",
      "129/129 - 1s - loss: 0.0016 - accuracy: 2.4248e-04 - 1s/epoch - 10ms/step\n",
      "Epoch 34/250\n",
      "129/129 - 1s - loss: 0.0017 - accuracy: 2.4248e-04 - 1s/epoch - 10ms/step\n",
      "Epoch 35/250\n",
      "129/129 - 1s - loss: 0.0017 - accuracy: 2.4248e-04 - 1s/epoch - 10ms/step\n",
      "Epoch 36/250\n",
      "129/129 - 1s - loss: 0.0016 - accuracy: 2.4248e-04 - 1s/epoch - 10ms/step\n",
      "Epoch 37/250\n",
      "129/129 - 1s - loss: 0.0017 - accuracy: 2.4248e-04 - 1s/epoch - 10ms/step\n",
      "Epoch 38/250\n",
      "129/129 - 1s - loss: 0.0017 - accuracy: 2.4248e-04 - 1s/epoch - 10ms/step\n",
      "Epoch 39/250\n",
      "129/129 - 1s - loss: 0.0017 - accuracy: 2.4248e-04 - 1s/epoch - 10ms/step\n",
      "Epoch 40/250\n",
      "129/129 - 1s - loss: 0.0016 - accuracy: 2.4248e-04 - 1s/epoch - 10ms/step\n",
      "Epoch 41/250\n",
      "129/129 - 1s - loss: 0.0016 - accuracy: 2.4248e-04 - 1s/epoch - 10ms/step\n",
      "Epoch 42/250\n",
      "129/129 - 1s - loss: 0.0016 - accuracy: 2.4248e-04 - 1s/epoch - 11ms/step\n",
      "Epoch 43/250\n",
      "129/129 - 1s - loss: 0.0016 - accuracy: 2.4248e-04 - 1s/epoch - 10ms/step\n",
      "Epoch 44/250\n",
      "129/129 - 1s - loss: 0.0016 - accuracy: 2.4248e-04 - 1s/epoch - 11ms/step\n",
      "Epoch 45/250\n",
      "129/129 - 1s - loss: 0.0017 - accuracy: 2.4248e-04 - 1s/epoch - 11ms/step\n",
      "Epoch 46/250\n",
      "129/129 - 1s - loss: 0.0016 - accuracy: 2.4248e-04 - 1s/epoch - 10ms/step\n",
      "Epoch 47/250\n",
      "129/129 - 1s - loss: 0.0017 - accuracy: 2.4248e-04 - 1s/epoch - 10ms/step\n",
      "Epoch 48/250\n",
      "129/129 - 1s - loss: 0.0016 - accuracy: 2.4248e-04 - 1s/epoch - 10ms/step\n",
      "Epoch 49/250\n",
      "129/129 - 1s - loss: 0.0016 - accuracy: 2.4248e-04 - 1s/epoch - 10ms/step\n",
      "Epoch 50/250\n",
      "129/129 - 1s - loss: 0.0016 - accuracy: 2.4248e-04 - 1s/epoch - 10ms/step\n",
      "Epoch 51/250\n",
      "129/129 - 1s - loss: 0.0017 - accuracy: 2.4248e-04 - 1s/epoch - 10ms/step\n",
      "Epoch 52/250\n",
      "129/129 - 1s - loss: 0.0016 - accuracy: 2.4248e-04 - 1s/epoch - 10ms/step\n",
      "Epoch 53/250\n",
      "129/129 - 1s - loss: 0.0016 - accuracy: 2.4248e-04 - 1s/epoch - 10ms/step\n",
      "Epoch 54/250\n",
      "129/129 - 1s - loss: 0.0016 - accuracy: 2.4248e-04 - 1s/epoch - 10ms/step\n",
      "Epoch 55/250\n",
      "129/129 - 1s - loss: 0.0016 - accuracy: 2.4248e-04 - 1s/epoch - 10ms/step\n",
      "Epoch 56/250\n",
      "129/129 - 1s - loss: 0.0017 - accuracy: 2.4248e-04 - 1s/epoch - 10ms/step\n",
      "Epoch 57/250\n",
      "129/129 - 1s - loss: 0.0016 - accuracy: 2.4248e-04 - 1s/epoch - 10ms/step\n",
      "Epoch 58/250\n",
      "129/129 - 1s - loss: 0.0016 - accuracy: 2.4248e-04 - 1s/epoch - 10ms/step\n",
      "Epoch 59/250\n",
      "129/129 - 1s - loss: 0.0016 - accuracy: 2.4248e-04 - 1s/epoch - 11ms/step\n",
      "Epoch 60/250\n",
      "129/129 - 1s - loss: 0.0016 - accuracy: 2.4248e-04 - 1s/epoch - 11ms/step\n",
      "Epoch 61/250\n",
      "129/129 - 1s - loss: 0.0017 - accuracy: 2.4248e-04 - 1s/epoch - 10ms/step\n",
      "Epoch 62/250\n",
      "129/129 - 1s - loss: 0.0016 - accuracy: 2.4248e-04 - 1s/epoch - 10ms/step\n",
      "Epoch 63/250\n",
      "129/129 - 1s - loss: 0.0016 - accuracy: 2.4248e-04 - 1s/epoch - 10ms/step\n",
      "Epoch 64/250\n",
      "129/129 - 1s - loss: 0.0016 - accuracy: 2.4248e-04 - 1s/epoch - 10ms/step\n",
      "Epoch 65/250\n",
      "129/129 - 1s - loss: 0.0017 - accuracy: 2.4248e-04 - 1s/epoch - 10ms/step\n",
      "Epoch 66/250\n",
      "129/129 - 1s - loss: 0.0016 - accuracy: 2.4248e-04 - 1s/epoch - 10ms/step\n",
      "Epoch 67/250\n",
      "129/129 - 1s - loss: 0.0016 - accuracy: 2.4248e-04 - 1s/epoch - 10ms/step\n",
      "Epoch 68/250\n",
      "129/129 - 1s - loss: 0.0016 - accuracy: 2.4248e-04 - 1s/epoch - 10ms/step\n",
      "Epoch 69/250\n",
      "129/129 - 1s - loss: 0.0016 - accuracy: 2.4248e-04 - 1s/epoch - 10ms/step\n",
      "Epoch 70/250\n",
      "129/129 - 1s - loss: 0.0016 - accuracy: 2.4248e-04 - 1s/epoch - 10ms/step\n",
      "Epoch 71/250\n",
      "129/129 - 1s - loss: 0.0016 - accuracy: 2.4248e-04 - 1s/epoch - 10ms/step\n",
      "Epoch 72/250\n",
      "129/129 - 1s - loss: 0.0016 - accuracy: 2.4248e-04 - 1s/epoch - 10ms/step\n",
      "Epoch 73/250\n",
      "129/129 - 1s - loss: 0.0016 - accuracy: 2.4248e-04 - 1s/epoch - 10ms/step\n",
      "Epoch 74/250\n",
      "129/129 - 1s - loss: 0.0017 - accuracy: 2.4248e-04 - 1s/epoch - 10ms/step\n",
      "Epoch 75/250\n",
      "129/129 - 1s - loss: 0.0016 - accuracy: 2.4248e-04 - 1s/epoch - 10ms/step\n",
      "Epoch 76/250\n",
      "129/129 - 1s - loss: 0.0016 - accuracy: 2.4248e-04 - 1s/epoch - 10ms/step\n",
      "Epoch 77/250\n",
      "129/129 - 1s - loss: 0.0016 - accuracy: 2.4248e-04 - 1s/epoch - 10ms/step\n",
      "Epoch 78/250\n",
      "129/129 - 1s - loss: 0.0016 - accuracy: 2.4248e-04 - 1s/epoch - 10ms/step\n",
      "Epoch 79/250\n",
      "129/129 - 1s - loss: 0.0016 - accuracy: 2.4248e-04 - 1s/epoch - 10ms/step\n",
      "Epoch 80/250\n",
      "129/129 - 1s - loss: 0.0016 - accuracy: 2.4248e-04 - 1s/epoch - 10ms/step\n",
      "Epoch 81/250\n",
      "129/129 - 1s - loss: 0.0016 - accuracy: 2.4248e-04 - 1s/epoch - 10ms/step\n",
      "Epoch 82/250\n",
      "129/129 - 1s - loss: 0.0016 - accuracy: 2.4248e-04 - 1s/epoch - 10ms/step\n",
      "Epoch 83/250\n",
      "129/129 - 1s - loss: 0.0016 - accuracy: 2.4248e-04 - 1s/epoch - 10ms/step\n",
      "Epoch 84/250\n",
      "129/129 - 1s - loss: 0.0016 - accuracy: 2.4248e-04 - 1s/epoch - 10ms/step\n",
      "Epoch 85/250\n",
      "129/129 - 1s - loss: 0.0016 - accuracy: 2.4248e-04 - 1s/epoch - 10ms/step\n",
      "Epoch 86/250\n",
      "129/129 - 1s - loss: 0.0016 - accuracy: 2.4248e-04 - 1s/epoch - 10ms/step\n",
      "Epoch 87/250\n",
      "129/129 - 1s - loss: 0.0016 - accuracy: 2.4248e-04 - 1s/epoch - 10ms/step\n",
      "Epoch 88/250\n",
      "129/129 - 1s - loss: 0.0016 - accuracy: 2.4248e-04 - 1s/epoch - 10ms/step\n",
      "Epoch 89/250\n",
      "129/129 - 1s - loss: 0.0016 - accuracy: 2.4248e-04 - 1s/epoch - 10ms/step\n",
      "Epoch 90/250\n",
      "129/129 - 1s - loss: 0.0016 - accuracy: 2.4248e-04 - 1s/epoch - 10ms/step\n",
      "Epoch 91/250\n",
      "129/129 - 1s - loss: 0.0016 - accuracy: 2.4248e-04 - 1s/epoch - 10ms/step\n",
      "Epoch 92/250\n",
      "129/129 - 1s - loss: 0.0016 - accuracy: 2.4248e-04 - 1s/epoch - 11ms/step\n",
      "Epoch 93/250\n",
      "129/129 - 1s - loss: 0.0016 - accuracy: 2.4248e-04 - 1s/epoch - 10ms/step\n",
      "Epoch 94/250\n",
      "129/129 - 1s - loss: 0.0016 - accuracy: 2.4248e-04 - 1s/epoch - 10ms/step\n",
      "Epoch 95/250\n",
      "129/129 - 1s - loss: 0.0016 - accuracy: 2.4248e-04 - 1s/epoch - 10ms/step\n"
     ]
    },
    {
     "name": "stdout",
     "output_type": "stream",
     "text": [
      "Epoch 96/250\n",
      "129/129 - 1s - loss: 0.0016 - accuracy: 2.4248e-04 - 1s/epoch - 10ms/step\n",
      "Epoch 97/250\n",
      "129/129 - 1s - loss: 0.0016 - accuracy: 2.4248e-04 - 1s/epoch - 10ms/step\n",
      "Epoch 98/250\n",
      "129/129 - 1s - loss: 0.0016 - accuracy: 2.4248e-04 - 1s/epoch - 10ms/step\n",
      "Epoch 99/250\n",
      "129/129 - 1s - loss: 0.0016 - accuracy: 2.4248e-04 - 1s/epoch - 10ms/step\n",
      "Epoch 100/250\n",
      "129/129 - 1s - loss: 0.0016 - accuracy: 2.4248e-04 - 1s/epoch - 10ms/step\n",
      "Epoch 101/250\n",
      "129/129 - 1s - loss: 0.0016 - accuracy: 2.4248e-04 - 1s/epoch - 10ms/step\n",
      "Epoch 102/250\n",
      "129/129 - 1s - loss: 0.0016 - accuracy: 2.4248e-04 - 1s/epoch - 10ms/step\n",
      "Epoch 103/250\n",
      "129/129 - 1s - loss: 0.0016 - accuracy: 2.4248e-04 - 1s/epoch - 10ms/step\n",
      "Epoch 104/250\n",
      "129/129 - 1s - loss: 0.0016 - accuracy: 2.4248e-04 - 1s/epoch - 10ms/step\n",
      "Epoch 105/250\n",
      "129/129 - 1s - loss: 0.0016 - accuracy: 2.4248e-04 - 1s/epoch - 10ms/step\n",
      "Epoch 106/250\n",
      "129/129 - 1s - loss: 0.0016 - accuracy: 2.4248e-04 - 1s/epoch - 11ms/step\n",
      "Epoch 107/250\n",
      "129/129 - 1s - loss: 0.0016 - accuracy: 2.4248e-04 - 1s/epoch - 11ms/step\n",
      "Epoch 108/250\n",
      "129/129 - 1s - loss: 0.0016 - accuracy: 2.4248e-04 - 1s/epoch - 10ms/step\n",
      "Epoch 109/250\n",
      "129/129 - 1s - loss: 0.0016 - accuracy: 2.4248e-04 - 1s/epoch - 10ms/step\n",
      "Epoch 110/250\n",
      "129/129 - 1s - loss: 0.0016 - accuracy: 2.4248e-04 - 1s/epoch - 11ms/step\n",
      "Epoch 111/250\n",
      "129/129 - 1s - loss: 0.0016 - accuracy: 2.4248e-04 - 1s/epoch - 10ms/step\n",
      "Epoch 112/250\n",
      "129/129 - 1s - loss: 0.0016 - accuracy: 2.4248e-04 - 1s/epoch - 10ms/step\n",
      "Epoch 113/250\n",
      "129/129 - 1s - loss: 0.0016 - accuracy: 2.4248e-04 - 1s/epoch - 10ms/step\n",
      "Epoch 114/250\n",
      "129/129 - 1s - loss: 0.0016 - accuracy: 2.4248e-04 - 1s/epoch - 10ms/step\n",
      "Epoch 115/250\n",
      "129/129 - 1s - loss: 0.0016 - accuracy: 2.4248e-04 - 1s/epoch - 10ms/step\n",
      "Epoch 116/250\n",
      "129/129 - 1s - loss: 0.0016 - accuracy: 2.4248e-04 - 1s/epoch - 10ms/step\n",
      "Epoch 117/250\n",
      "129/129 - 1s - loss: 0.0016 - accuracy: 2.4248e-04 - 1s/epoch - 10ms/step\n",
      "Epoch 118/250\n",
      "129/129 - 1s - loss: 0.0016 - accuracy: 2.4248e-04 - 1s/epoch - 10ms/step\n",
      "Epoch 119/250\n",
      "129/129 - 1s - loss: 0.0015 - accuracy: 2.4248e-04 - 1s/epoch - 10ms/step\n",
      "Epoch 120/250\n",
      "129/129 - 1s - loss: 0.0016 - accuracy: 2.4248e-04 - 1s/epoch - 10ms/step\n",
      "Epoch 121/250\n",
      "129/129 - 1s - loss: 0.0016 - accuracy: 2.4248e-04 - 1s/epoch - 10ms/step\n",
      "Epoch 122/250\n",
      "129/129 - 1s - loss: 0.0015 - accuracy: 2.4248e-04 - 1s/epoch - 10ms/step\n",
      "Epoch 123/250\n",
      "129/129 - 1s - loss: 0.0016 - accuracy: 2.4248e-04 - 1s/epoch - 10ms/step\n",
      "Epoch 124/250\n",
      "129/129 - 1s - loss: 0.0015 - accuracy: 2.4248e-04 - 1s/epoch - 11ms/step\n",
      "Epoch 125/250\n",
      "129/129 - 1s - loss: 0.0015 - accuracy: 2.4248e-04 - 1s/epoch - 10ms/step\n",
      "Epoch 126/250\n",
      "129/129 - 1s - loss: 0.0016 - accuracy: 2.4248e-04 - 1s/epoch - 10ms/step\n",
      "Epoch 127/250\n",
      "129/129 - 1s - loss: 0.0015 - accuracy: 2.4248e-04 - 1s/epoch - 10ms/step\n",
      "Epoch 128/250\n",
      "129/129 - 1s - loss: 0.0016 - accuracy: 2.4248e-04 - 1s/epoch - 10ms/step\n",
      "Epoch 129/250\n",
      "129/129 - 1s - loss: 0.0015 - accuracy: 2.4248e-04 - 1s/epoch - 10ms/step\n",
      "Epoch 130/250\n",
      "129/129 - 1s - loss: 0.0015 - accuracy: 2.4248e-04 - 1s/epoch - 10ms/step\n",
      "Epoch 131/250\n",
      "129/129 - 1s - loss: 0.0015 - accuracy: 2.4248e-04 - 1s/epoch - 10ms/step\n",
      "Epoch 132/250\n",
      "129/129 - 1s - loss: 0.0015 - accuracy: 2.4248e-04 - 1s/epoch - 10ms/step\n",
      "Epoch 133/250\n",
      "129/129 - 1s - loss: 0.0015 - accuracy: 2.4248e-04 - 1s/epoch - 10ms/step\n",
      "Epoch 134/250\n",
      "129/129 - 1s - loss: 0.0015 - accuracy: 2.4248e-04 - 1s/epoch - 10ms/step\n",
      "Epoch 135/250\n",
      "129/129 - 1s - loss: 0.0015 - accuracy: 2.4248e-04 - 1s/epoch - 11ms/step\n",
      "Epoch 136/250\n",
      "129/129 - 1s - loss: 0.0015 - accuracy: 2.4248e-04 - 1s/epoch - 10ms/step\n",
      "Epoch 137/250\n",
      "129/129 - 1s - loss: 0.0015 - accuracy: 2.4248e-04 - 1s/epoch - 10ms/step\n",
      "Epoch 138/250\n",
      "129/129 - 1s - loss: 0.0015 - accuracy: 2.4248e-04 - 1s/epoch - 10ms/step\n",
      "Epoch 139/250\n",
      "129/129 - 1s - loss: 0.0015 - accuracy: 2.4248e-04 - 1s/epoch - 10ms/step\n",
      "Epoch 140/250\n",
      "129/129 - 1s - loss: 0.0015 - accuracy: 2.4248e-04 - 1s/epoch - 10ms/step\n",
      "Epoch 141/250\n",
      "129/129 - 1s - loss: 0.0014 - accuracy: 2.4248e-04 - 1s/epoch - 10ms/step\n",
      "Epoch 142/250\n",
      "129/129 - 1s - loss: 0.0015 - accuracy: 2.4248e-04 - 1s/epoch - 10ms/step\n",
      "Epoch 143/250\n",
      "129/129 - 1s - loss: 0.0015 - accuracy: 2.4248e-04 - 1s/epoch - 11ms/step\n",
      "Epoch 144/250\n",
      "129/129 - 1s - loss: 0.0015 - accuracy: 2.4248e-04 - 1s/epoch - 11ms/step\n",
      "Epoch 145/250\n",
      "129/129 - 1s - loss: 0.0014 - accuracy: 2.4248e-04 - 1s/epoch - 10ms/step\n",
      "Epoch 146/250\n",
      "129/129 - 1s - loss: 0.0014 - accuracy: 2.4248e-04 - 1s/epoch - 10ms/step\n",
      "Epoch 147/250\n",
      "129/129 - 1s - loss: 0.0014 - accuracy: 2.4248e-04 - 1s/epoch - 10ms/step\n",
      "Epoch 148/250\n",
      "129/129 - 1s - loss: 0.0014 - accuracy: 2.4248e-04 - 1s/epoch - 10ms/step\n",
      "Epoch 149/250\n",
      "129/129 - 1s - loss: 0.0014 - accuracy: 2.4248e-04 - 1s/epoch - 10ms/step\n",
      "Epoch 150/250\n",
      "129/129 - 1s - loss: 0.0014 - accuracy: 2.4248e-04 - 1s/epoch - 11ms/step\n",
      "Epoch 151/250\n",
      "129/129 - 1s - loss: 0.0014 - accuracy: 2.4248e-04 - 1s/epoch - 11ms/step\n",
      "Epoch 152/250\n",
      "129/129 - 1s - loss: 0.0013 - accuracy: 2.4248e-04 - 1s/epoch - 10ms/step\n",
      "Epoch 153/250\n",
      "129/129 - 1s - loss: 0.0014 - accuracy: 4.8497e-04 - 1s/epoch - 10ms/step\n",
      "Epoch 154/250\n",
      "129/129 - 1s - loss: 0.0015 - accuracy: 2.4248e-04 - 1s/epoch - 10ms/step\n",
      "Epoch 155/250\n",
      "129/129 - 1s - loss: 0.0014 - accuracy: 2.4248e-04 - 1s/epoch - 10ms/step\n",
      "Epoch 156/250\n",
      "129/129 - 1s - loss: 0.0013 - accuracy: 2.4248e-04 - 1s/epoch - 10ms/step\n",
      "Epoch 157/250\n",
      "129/129 - 1s - loss: 0.0014 - accuracy: 2.4248e-04 - 1s/epoch - 10ms/step\n",
      "Epoch 158/250\n",
      "129/129 - 1s - loss: 0.0012 - accuracy: 2.4248e-04 - 1s/epoch - 10ms/step\n",
      "Epoch 159/250\n",
      "129/129 - 1s - loss: 0.0012 - accuracy: 4.8497e-04 - 1s/epoch - 10ms/step\n",
      "Epoch 160/250\n",
      "129/129 - 1s - loss: 0.0012 - accuracy: 4.8497e-04 - 1s/epoch - 10ms/step\n",
      "Epoch 161/250\n",
      "129/129 - 1s - loss: 0.0012 - accuracy: 4.8497e-04 - 1s/epoch - 10ms/step\n",
      "Epoch 162/250\n",
      "129/129 - 1s - loss: 0.0011 - accuracy: 4.8497e-04 - 1s/epoch - 10ms/step\n",
      "Epoch 163/250\n",
      "129/129 - 1s - loss: 0.0011 - accuracy: 4.8497e-04 - 1s/epoch - 10ms/step\n",
      "Epoch 164/250\n",
      "129/129 - 1s - loss: 0.0011 - accuracy: 4.8497e-04 - 1s/epoch - 10ms/step\n",
      "Epoch 165/250\n",
      "129/129 - 1s - loss: 0.0011 - accuracy: 4.8497e-04 - 1s/epoch - 10ms/step\n",
      "Epoch 166/250\n",
      "129/129 - 1s - loss: 0.0011 - accuracy: 4.8497e-04 - 1s/epoch - 10ms/step\n",
      "Epoch 167/250\n",
      "129/129 - 1s - loss: 0.0011 - accuracy: 4.8497e-04 - 1s/epoch - 11ms/step\n",
      "Epoch 168/250\n",
      "129/129 - 1s - loss: 0.0011 - accuracy: 4.8497e-04 - 1s/epoch - 10ms/step\n",
      "Epoch 169/250\n",
      "129/129 - 1s - loss: 0.0013 - accuracy: 2.4248e-04 - 1s/epoch - 10ms/step\n",
      "Epoch 170/250\n",
      "129/129 - 1s - loss: 0.0012 - accuracy: 4.8497e-04 - 1s/epoch - 11ms/step\n",
      "Epoch 171/250\n",
      "129/129 - 1s - loss: 0.0011 - accuracy: 4.8497e-04 - 1s/epoch - 10ms/step\n",
      "Epoch 172/250\n",
      "129/129 - 1s - loss: 0.0011 - accuracy: 4.8497e-04 - 1s/epoch - 10ms/step\n",
      "Epoch 173/250\n",
      "129/129 - 1s - loss: 0.0011 - accuracy: 4.8497e-04 - 1s/epoch - 10ms/step\n",
      "Epoch 174/250\n",
      "129/129 - 1s - loss: 0.0010 - accuracy: 4.8497e-04 - 1s/epoch - 10ms/step\n",
      "Epoch 175/250\n",
      "129/129 - 1s - loss: 0.0010 - accuracy: 4.8497e-04 - 1s/epoch - 11ms/step\n",
      "Epoch 176/250\n",
      "129/129 - 1s - loss: 9.9454e-04 - accuracy: 4.8497e-04 - 1s/epoch - 11ms/step\n",
      "Epoch 177/250\n",
      "129/129 - 1s - loss: 0.0010 - accuracy: 4.8497e-04 - 1s/epoch - 10ms/step\n",
      "Epoch 178/250\n",
      "129/129 - 1s - loss: 9.8978e-04 - accuracy: 4.8497e-04 - 1s/epoch - 10ms/step\n",
      "Epoch 179/250\n",
      "129/129 - 1s - loss: 0.0011 - accuracy: 4.8497e-04 - 1s/epoch - 11ms/step\n",
      "Epoch 180/250\n",
      "129/129 - 1s - loss: 0.0010 - accuracy: 4.8497e-04 - 1s/epoch - 11ms/step\n",
      "Epoch 181/250\n",
      "129/129 - 1s - loss: 0.0010 - accuracy: 4.8497e-04 - 1s/epoch - 10ms/step\n",
      "Epoch 182/250\n",
      "129/129 - 1s - loss: 9.6477e-04 - accuracy: 4.8497e-04 - 1s/epoch - 10ms/step\n",
      "Epoch 183/250\n",
      "129/129 - 1s - loss: 9.4129e-04 - accuracy: 4.8497e-04 - 1s/epoch - 10ms/step\n",
      "Epoch 184/250\n",
      "129/129 - 1s - loss: 9.9323e-04 - accuracy: 4.8497e-04 - 1s/epoch - 10ms/step\n",
      "Epoch 185/250\n",
      "129/129 - 1s - loss: 9.6124e-04 - accuracy: 4.8497e-04 - 1s/epoch - 10ms/step\n",
      "Epoch 186/250\n",
      "129/129 - 1s - loss: 9.7085e-04 - accuracy: 4.8497e-04 - 1s/epoch - 10ms/step\n",
      "Epoch 187/250\n",
      "129/129 - 1s - loss: 9.6266e-04 - accuracy: 4.8497e-04 - 1s/epoch - 10ms/step\n",
      "Epoch 188/250\n",
      "129/129 - 1s - loss: 0.0010 - accuracy: 4.8497e-04 - 1s/epoch - 10ms/step\n"
     ]
    },
    {
     "name": "stdout",
     "output_type": "stream",
     "text": [
      "Epoch 189/250\n",
      "129/129 - 1s - loss: 9.0105e-04 - accuracy: 4.8497e-04 - 1s/epoch - 11ms/step\n",
      "Epoch 190/250\n",
      "129/129 - 1s - loss: 9.0461e-04 - accuracy: 4.8497e-04 - 1s/epoch - 11ms/step\n",
      "Epoch 191/250\n",
      "129/129 - 1s - loss: 9.5744e-04 - accuracy: 4.8497e-04 - 1s/epoch - 11ms/step\n",
      "Epoch 192/250\n",
      "129/129 - 1s - loss: 9.7988e-04 - accuracy: 4.8497e-04 - 1s/epoch - 11ms/step\n",
      "Epoch 193/250\n",
      "129/129 - 1s - loss: 0.0010 - accuracy: 4.8497e-04 - 1s/epoch - 10ms/step\n",
      "Epoch 194/250\n",
      "129/129 - 1s - loss: 9.2178e-04 - accuracy: 4.8497e-04 - 1s/epoch - 11ms/step\n",
      "Epoch 195/250\n",
      "129/129 - 1s - loss: 8.5941e-04 - accuracy: 4.8497e-04 - 1s/epoch - 10ms/step\n",
      "Epoch 196/250\n",
      "129/129 - 1s - loss: 9.7498e-04 - accuracy: 4.8497e-04 - 1s/epoch - 10ms/step\n",
      "Epoch 197/250\n",
      "129/129 - 1s - loss: 9.9624e-04 - accuracy: 4.8497e-04 - 1s/epoch - 10ms/step\n",
      "Epoch 198/250\n",
      "129/129 - 1s - loss: 9.6144e-04 - accuracy: 4.8497e-04 - 1s/epoch - 11ms/step\n",
      "Epoch 199/250\n",
      "129/129 - 1s - loss: 8.9514e-04 - accuracy: 4.8497e-04 - 1s/epoch - 11ms/step\n",
      "Epoch 200/250\n",
      "129/129 - 1s - loss: 8.6227e-04 - accuracy: 4.8497e-04 - 1s/epoch - 10ms/step\n",
      "Epoch 201/250\n",
      "129/129 - 1s - loss: 8.7491e-04 - accuracy: 4.8497e-04 - 1s/epoch - 10ms/step\n",
      "Epoch 202/250\n",
      "129/129 - 1s - loss: 8.7637e-04 - accuracy: 4.8497e-04 - 1s/epoch - 11ms/step\n",
      "Epoch 203/250\n",
      "129/129 - 1s - loss: 8.7176e-04 - accuracy: 4.8497e-04 - 1s/epoch - 10ms/step\n",
      "Epoch 204/250\n",
      "129/129 - 1s - loss: 8.5086e-04 - accuracy: 4.8497e-04 - 1s/epoch - 10ms/step\n",
      "Epoch 205/250\n",
      "129/129 - 1s - loss: 8.5654e-04 - accuracy: 4.8497e-04 - 1s/epoch - 10ms/step\n",
      "Epoch 206/250\n",
      "129/129 - 1s - loss: 8.7314e-04 - accuracy: 4.8497e-04 - 1s/epoch - 10ms/step\n",
      "Epoch 207/250\n",
      "129/129 - 1s - loss: 8.2586e-04 - accuracy: 4.8497e-04 - 1s/epoch - 10ms/step\n",
      "Epoch 208/250\n",
      "129/129 - 1s - loss: 8.1787e-04 - accuracy: 4.8497e-04 - 1s/epoch - 10ms/step\n",
      "Epoch 209/250\n",
      "129/129 - 1s - loss: 7.9355e-04 - accuracy: 4.8497e-04 - 1s/epoch - 11ms/step\n",
      "Epoch 210/250\n",
      "129/129 - 1s - loss: 8.2985e-04 - accuracy: 4.8497e-04 - 1s/epoch - 11ms/step\n",
      "Epoch 211/250\n",
      "129/129 - 1s - loss: 8.2315e-04 - accuracy: 4.8497e-04 - 1s/epoch - 11ms/step\n",
      "Epoch 212/250\n",
      "129/129 - 1s - loss: 7.8901e-04 - accuracy: 4.8497e-04 - 1s/epoch - 11ms/step\n",
      "Epoch 213/250\n",
      "129/129 - 1s - loss: 7.8299e-04 - accuracy: 4.8497e-04 - 1s/epoch - 10ms/step\n",
      "Epoch 214/250\n",
      "129/129 - 1s - loss: 7.7136e-04 - accuracy: 4.8497e-04 - 1s/epoch - 11ms/step\n",
      "Epoch 215/250\n",
      "129/129 - 1s - loss: 8.1516e-04 - accuracy: 4.8497e-04 - 1s/epoch - 11ms/step\n",
      "Epoch 216/250\n",
      "129/129 - 1s - loss: 8.1828e-04 - accuracy: 4.8497e-04 - 1s/epoch - 10ms/step\n",
      "Epoch 217/250\n",
      "129/129 - 1s - loss: 7.7153e-04 - accuracy: 4.8497e-04 - 1s/epoch - 10ms/step\n",
      "Epoch 218/250\n",
      "129/129 - 1s - loss: 7.4182e-04 - accuracy: 4.8497e-04 - 1s/epoch - 11ms/step\n",
      "Epoch 219/250\n",
      "129/129 - 1s - loss: 7.4304e-04 - accuracy: 4.8497e-04 - 1s/epoch - 10ms/step\n",
      "Epoch 220/250\n",
      "129/129 - 1s - loss: 7.3770e-04 - accuracy: 4.8497e-04 - 1s/epoch - 11ms/step\n",
      "Epoch 221/250\n",
      "129/129 - 1s - loss: 7.7616e-04 - accuracy: 4.8497e-04 - 1s/epoch - 10ms/step\n",
      "Epoch 222/250\n",
      "129/129 - 1s - loss: 8.3747e-04 - accuracy: 4.8497e-04 - 1s/epoch - 10ms/step\n",
      "Epoch 223/250\n",
      "129/129 - 1s - loss: 7.5107e-04 - accuracy: 4.8497e-04 - 1s/epoch - 10ms/step\n",
      "Epoch 224/250\n",
      "129/129 - 1s - loss: 7.2849e-04 - accuracy: 4.8497e-04 - 1s/epoch - 10ms/step\n",
      "Epoch 225/250\n",
      "129/129 - 1s - loss: 7.3724e-04 - accuracy: 4.8497e-04 - 1s/epoch - 10ms/step\n",
      "Epoch 226/250\n",
      "129/129 - 1s - loss: 7.1743e-04 - accuracy: 4.8497e-04 - 1s/epoch - 10ms/step\n",
      "Epoch 227/250\n",
      "129/129 - 1s - loss: 7.0617e-04 - accuracy: 4.8497e-04 - 1s/epoch - 11ms/step\n",
      "Epoch 228/250\n",
      "129/129 - 1s - loss: 7.1661e-04 - accuracy: 4.8497e-04 - 1s/epoch - 10ms/step\n",
      "Epoch 229/250\n",
      "129/129 - 1s - loss: 6.8583e-04 - accuracy: 4.8497e-04 - 1s/epoch - 10ms/step\n",
      "Epoch 230/250\n",
      "129/129 - 1s - loss: 7.1414e-04 - accuracy: 4.8497e-04 - 1s/epoch - 10ms/step\n",
      "Epoch 231/250\n",
      "129/129 - 1s - loss: 7.8353e-04 - accuracy: 4.8497e-04 - 1s/epoch - 10ms/step\n",
      "Epoch 232/250\n",
      "129/129 - 1s - loss: 7.4506e-04 - accuracy: 4.8497e-04 - 1s/epoch - 10ms/step\n",
      "Epoch 233/250\n",
      "129/129 - 1s - loss: 7.0381e-04 - accuracy: 4.8497e-04 - 1s/epoch - 10ms/step\n",
      "Epoch 234/250\n",
      "129/129 - 1s - loss: 7.0172e-04 - accuracy: 4.8497e-04 - 1s/epoch - 10ms/step\n",
      "Epoch 235/250\n",
      "129/129 - 1s - loss: 6.9327e-04 - accuracy: 4.8497e-04 - 1s/epoch - 11ms/step\n",
      "Epoch 236/250\n",
      "129/129 - 1s - loss: 6.8519e-04 - accuracy: 4.8497e-04 - 1s/epoch - 10ms/step\n",
      "Epoch 237/250\n",
      "129/129 - 1s - loss: 7.2867e-04 - accuracy: 4.8497e-04 - 1s/epoch - 10ms/step\n",
      "Epoch 238/250\n",
      "129/129 - 1s - loss: 7.2804e-04 - accuracy: 4.8497e-04 - 1s/epoch - 10ms/step\n",
      "Epoch 239/250\n",
      "129/129 - 1s - loss: 6.9110e-04 - accuracy: 4.8497e-04 - 1s/epoch - 10ms/step\n",
      "Epoch 240/250\n",
      "129/129 - 1s - loss: 6.7186e-04 - accuracy: 4.8497e-04 - 1s/epoch - 10ms/step\n",
      "Epoch 241/250\n",
      "129/129 - 1s - loss: 6.5475e-04 - accuracy: 4.8497e-04 - 1s/epoch - 10ms/step\n",
      "Epoch 242/250\n",
      "129/129 - 1s - loss: 6.4576e-04 - accuracy: 4.8497e-04 - 1s/epoch - 11ms/step\n",
      "Epoch 243/250\n",
      "129/129 - 1s - loss: 6.2756e-04 - accuracy: 4.8497e-04 - 1s/epoch - 11ms/step\n",
      "Epoch 244/250\n",
      "129/129 - 1s - loss: 6.3375e-04 - accuracy: 4.8497e-04 - 1s/epoch - 10ms/step\n",
      "Epoch 245/250\n",
      "129/129 - 1s - loss: 6.9841e-04 - accuracy: 4.8497e-04 - 1s/epoch - 10ms/step\n",
      "Epoch 246/250\n",
      "129/129 - 1s - loss: 6.1169e-04 - accuracy: 4.8497e-04 - 1s/epoch - 10ms/step\n",
      "Epoch 247/250\n",
      "129/129 - 1s - loss: 6.3655e-04 - accuracy: 4.8497e-04 - 1s/epoch - 10ms/step\n",
      "Epoch 248/250\n",
      "129/129 - 1s - loss: 6.5519e-04 - accuracy: 4.8497e-04 - 1s/epoch - 10ms/step\n",
      "Epoch 249/250\n",
      "129/129 - 1s - loss: 6.2757e-04 - accuracy: 4.8497e-04 - 1s/epoch - 10ms/step\n",
      "Epoch 250/250\n",
      "129/129 - 1s - loss: 6.2822e-04 - accuracy: 4.8497e-04 - 1s/epoch - 10ms/step\n"
     ]
    }
   ],
   "source": [
    "#Trains model and jit function to reduce native call time\n",
    "@jit(forceobj=True)\n",
    "def trainModel(X_train, y_train):\n",
    "    hist = regressor.fit(X_train, y_train, epochs=250, batch_size=32, verbose=2)\n",
    "    return hist\n",
    "    \n",
    "    \n",
    "hist = trainModel(X_train, y_train)"
   ]
  },
  {
   "cell_type": "markdown",
   "id": "0dfedcc0",
   "metadata": {},
   "source": [
    "Shows training loss per epoc which gives us an an idea how close the model gets to the actual value, if the loss hits 0 we are on the exact value."
   ]
  },
  {
   "cell_type": "code",
   "execution_count": 25,
   "id": "cc6e939d",
   "metadata": {},
   "outputs": [
    {
     "data": {
      "image/png": "[encoded data removed]",
      "text/plain": [
       "<Figure size 720x720 with 1 Axes>"
      ]
     },
     "metadata": {
      "needs_background": "light"
     },
     "output_type": "display_data"
    }
   ],
   "source": [
    "plt.plot(hist.history['loss'])\n",
    "plt.title('Training model loss')\n",
    "plt.ylabel('loss')\n",
    "plt.xlabel('epoch')\n",
    "plt.legend(['train'], loc='upper left')\n",
    "plt.gcf().set_size_inches((10, 10))\n",
    "plt.show()"
   ]
  },
  {
   "cell_type": "markdown",
   "id": "07a8dec7",
   "metadata": {},
   "source": [
    "This code takes the original kepler data and basically compares what the values our model would predict that data to be vs the actual."
   ]
  },
  {
   "cell_type": "code",
   "execution_count": 26,
   "id": "5cb71666",
   "metadata": {},
   "outputs": [
    {
     "data": {
      "text/plain": [
       "(32102, 10, 1)"
      ]
     },
     "execution_count": 26,
     "metadata": {},
     "output_type": "execute_result"
    }
   ],
   "source": [
    "testData =  skep\n",
    "testData['pl_bmassj'] = skep['pl_bmassj'].fillna(-1)\n",
    "testData = testData.iloc[:, lambda df: [1]]\n",
    "testData = testData.sort_index(ascending=False)\n",
    "y_test = testData.iloc[10:,0:].values \n",
    "#input array for the model\n",
    "inputClosing = testData.iloc[:,0:].values \n",
    "inputClosing_scaled = scaler.transform(inputClosing)\n",
    "inputClosing_scaled.shape\n",
    "X_test = []\n",
    "length = len(testData)\n",
    "timestep = 10\n",
    "for i in range(timestep,length):  \n",
    "    X_test.append(inputClosing_scaled[i-timestep:i,0])\n",
    "   # print(X_test)\n",
    "X_test = np.array(X_test)\n",
    "X_test = np.reshape(X_test,(X_test.shape[0],X_test.shape[1],1))\n",
    "X_test.shape"
   ]
  },
  {
   "cell_type": "markdown",
   "id": "6af4da69",
   "metadata": {},
   "source": [
    "After reshaping the numpy array it feeds it to our model and makes a prediction with it."
   ]
  },
  {
   "cell_type": "code",
   "execution_count": 27,
   "id": "5d33c648",
   "metadata": {},
   "outputs": [],
   "source": [
    "y_pred = regressor.predict(X_test)"
   ]
  },
  {
   "cell_type": "markdown",
   "id": "193e260e",
   "metadata": {},
   "source": [
    "More reshaping so that we can graph them"
   ]
  },
  {
   "cell_type": "code",
   "execution_count": 28,
   "id": "73aa645c",
   "metadata": {},
   "outputs": [
    {
     "name": "stdout",
     "output_type": "stream",
     "text": [
      "(4124, 10, 1)\n",
      "[[ 6.9583163]\n",
      " [ 2.8429842]\n",
      " [ 4.553269 ]\n",
      " ...\n",
      " [ 0.8853611]\n",
      " [ 5.092422 ]\n",
      " [12.966175 ]]\n"
     ]
    }
   ],
   "source": [
    "y_pred = np.reshape(y_pred,(y_pred.shape[0],y_pred.shape[1]))\n",
    "print(X_train.shape)\n",
    "pred_massj = scaler.inverse_transform(y_pred)\n",
    "print((pred_massj))"
   ]
  },
  {
   "cell_type": "markdown",
   "id": "44b68de7",
   "metadata": {},
   "source": [
    "shows model estimations vs actual values"
   ]
  },
  {
   "cell_type": "code",
   "execution_count": 29,
   "id": "f1612b6e",
   "metadata": {},
   "outputs": [
    {
     "data": {
      "image/png": "[encoded data removed]",
      "text/plain": [
       "<Figure size 720x720 with 1 Axes>"
      ]
     },
     "metadata": {
      "needs_background": "light"
     },
     "output_type": "display_data"
    }
   ],
   "source": [
    "plt.plot(y_test, color = 'red', label = 'Actual Planetary Mass (In Jupiters)')\n",
    "plt.plot(pred_massj, color = 'green', label = 'Predicted Plantary Mass (in Jupiters)')\n",
    "plt.title('Planetary Mass')\n",
    "plt.xlabel('Planets')\n",
    "plt.ylabel('Mass in Jupters')\n",
    "plt.gcf().set_size_inches((10, 10))\n",
    "plt.legend()\n",
    "plt.show()"
   ]
  },
  {
   "cell_type": "markdown",
   "id": "ee0a30e7",
   "metadata": {},
   "source": [
    "Now that we actual estimate values the next few cells take all that into a dataframe and then merge it with know values and fills in the unknowns with estimated values."
   ]
  },
  {
   "cell_type": "code",
   "execution_count": 30,
   "id": "1b8672ec",
   "metadata": {},
   "outputs": [],
   "source": [
    "pred_massj = pred_massj.flatten()"
   ]
  },
  {
   "cell_type": "code",
   "execution_count": 31,
   "id": "47037d81",
   "metadata": {},
   "outputs": [],
   "source": [
    "dfResultMass = pd.DataFrame(pred_massj)"
   ]
  },
  {
   "cell_type": "code",
   "execution_count": 32,
   "id": "28d6a977",
   "metadata": {},
   "outputs": [
    {
     "data": {
      "text/html": [
       "<div>\n",
       "<style scoped>\n",
       "    .dataframe tbody tr th:only-of-type {\n",
       "        vertical-align: middle;\n",
       "    }\n",
       "\n",
       "    .dataframe tbody tr th {\n",
       "        vertical-align: top;\n",
       "    }\n",
       "\n",
       "    .dataframe thead th {\n",
       "        text-align: right;\n",
       "    }\n",
       "</style>\n",
       "<table border=\"1\" class=\"dataframe\">\n",
       "  <thead>\n",
       "    <tr style=\"text-align: right;\">\n",
       "      <th></th>\n",
       "      <th>0</th>\n",
       "    </tr>\n",
       "  </thead>\n",
       "  <tbody>\n",
       "    <tr>\n",
       "      <th>0</th>\n",
       "      <td>6.958316</td>\n",
       "    </tr>\n",
       "    <tr>\n",
       "      <th>1</th>\n",
       "      <td>2.842984</td>\n",
       "    </tr>\n",
       "    <tr>\n",
       "      <th>2</th>\n",
       "      <td>4.553269</td>\n",
       "    </tr>\n",
       "    <tr>\n",
       "      <th>3</th>\n",
       "      <td>1.242292</td>\n",
       "    </tr>\n",
       "    <tr>\n",
       "      <th>4</th>\n",
       "      <td>1.179567</td>\n",
       "    </tr>\n",
       "    <tr>\n",
       "      <th>...</th>\n",
       "      <td>...</td>\n",
       "    </tr>\n",
       "    <tr>\n",
       "      <th>32097</th>\n",
       "      <td>3.008099</td>\n",
       "    </tr>\n",
       "    <tr>\n",
       "      <th>32098</th>\n",
       "      <td>3.228496</td>\n",
       "    </tr>\n",
       "    <tr>\n",
       "      <th>32099</th>\n",
       "      <td>0.885361</td>\n",
       "    </tr>\n",
       "    <tr>\n",
       "      <th>32100</th>\n",
       "      <td>5.092422</td>\n",
       "    </tr>\n",
       "    <tr>\n",
       "      <th>32101</th>\n",
       "      <td>12.966175</td>\n",
       "    </tr>\n",
       "  </tbody>\n",
       "</table>\n",
       "<p>32102 rows × 1 columns</p>\n",
       "</div>"
      ],
      "text/plain": [
       "               0\n",
       "0       6.958316\n",
       "1       2.842984\n",
       "2       4.553269\n",
       "3       1.242292\n",
       "4       1.179567\n",
       "...          ...\n",
       "32097   3.008099\n",
       "32098   3.228496\n",
       "32099   0.885361\n",
       "32100   5.092422\n",
       "32101  12.966175\n",
       "\n",
       "[32102 rows x 1 columns]"
      ]
     },
     "execution_count": 32,
     "metadata": {},
     "output_type": "execute_result"
    }
   ],
   "source": [
    "dfResultMass"
   ]
  },
  {
   "cell_type": "code",
   "execution_count": 33,
   "id": "448415e2",
   "metadata": {},
   "outputs": [],
   "source": [
    "#make new data frame that takes all known planets with jupiter masses + unknowns = -1"
   ]
  },
  {
   "cell_type": "code",
   "execution_count": 34,
   "id": "9b7e1c50",
   "metadata": {},
   "outputs": [],
   "source": [
    "newSkep = skep\n",
    "newSkep['pl_bmassj'] = newSkep['pl_bmassj'].fillna(-1)"
   ]
  },
  {
   "cell_type": "code",
   "execution_count": 35,
   "id": "a4c9bcbf",
   "metadata": {},
   "outputs": [
    {
     "data": {
      "text/html": [
       "<div>\n",
       "<style scoped>\n",
       "    .dataframe tbody tr th:only-of-type {\n",
       "        vertical-align: middle;\n",
       "    }\n",
       "\n",
       "    .dataframe tbody tr th {\n",
       "        vertical-align: top;\n",
       "    }\n",
       "\n",
       "    .dataframe thead th {\n",
       "        text-align: right;\n",
       "    }\n",
       "</style>\n",
       "<table border=\"1\" class=\"dataframe\">\n",
       "  <thead>\n",
       "    <tr style=\"text-align: right;\">\n",
       "      <th></th>\n",
       "      <th>pl_name</th>\n",
       "      <th>pl_bmassj</th>\n",
       "      <th>pl_orbper</th>\n",
       "    </tr>\n",
       "  </thead>\n",
       "  <tbody>\n",
       "    <tr>\n",
       "      <th>0</th>\n",
       "      <td>11 Com b</td>\n",
       "      <td>19.40</td>\n",
       "      <td>326.03000</td>\n",
       "    </tr>\n",
       "    <tr>\n",
       "      <th>1</th>\n",
       "      <td>11 Com b</td>\n",
       "      <td>17.10</td>\n",
       "      <td>NaN</td>\n",
       "    </tr>\n",
       "    <tr>\n",
       "      <th>2</th>\n",
       "      <td>11 UMi b</td>\n",
       "      <td>10.80</td>\n",
       "      <td>NaN</td>\n",
       "    </tr>\n",
       "    <tr>\n",
       "      <th>3</th>\n",
       "      <td>11 UMi b</td>\n",
       "      <td>14.74</td>\n",
       "      <td>516.21997</td>\n",
       "    </tr>\n",
       "    <tr>\n",
       "      <th>4</th>\n",
       "      <td>11 UMi b</td>\n",
       "      <td>10.50</td>\n",
       "      <td>516.22000</td>\n",
       "    </tr>\n",
       "    <tr>\n",
       "      <th>...</th>\n",
       "      <td>...</td>\n",
       "      <td>...</td>\n",
       "      <td>...</td>\n",
       "    </tr>\n",
       "    <tr>\n",
       "      <th>32107</th>\n",
       "      <td>ups And d</td>\n",
       "      <td>4.10</td>\n",
       "      <td>1282.41000</td>\n",
       "    </tr>\n",
       "    <tr>\n",
       "      <th>32108</th>\n",
       "      <td>ups And d</td>\n",
       "      <td>10.25</td>\n",
       "      <td>1281.50700</td>\n",
       "    </tr>\n",
       "    <tr>\n",
       "      <th>32109</th>\n",
       "      <td>ups Leo b</td>\n",
       "      <td>0.51</td>\n",
       "      <td>385.20000</td>\n",
       "    </tr>\n",
       "    <tr>\n",
       "      <th>32110</th>\n",
       "      <td>xi Aql b</td>\n",
       "      <td>2.02</td>\n",
       "      <td>NaN</td>\n",
       "    </tr>\n",
       "    <tr>\n",
       "      <th>32111</th>\n",
       "      <td>xi Aql b</td>\n",
       "      <td>2.80</td>\n",
       "      <td>136.75000</td>\n",
       "    </tr>\n",
       "  </tbody>\n",
       "</table>\n",
       "<p>32112 rows × 3 columns</p>\n",
       "</div>"
      ],
      "text/plain": [
       "         pl_name  pl_bmassj   pl_orbper\n",
       "0       11 Com b      19.40   326.03000\n",
       "1       11 Com b      17.10         NaN\n",
       "2       11 UMi b      10.80         NaN\n",
       "3       11 UMi b      14.74   516.21997\n",
       "4       11 UMi b      10.50   516.22000\n",
       "...          ...        ...         ...\n",
       "32107  ups And d       4.10  1282.41000\n",
       "32108  ups And d      10.25  1281.50700\n",
       "32109  ups Leo b       0.51   385.20000\n",
       "32110   xi Aql b       2.02         NaN\n",
       "32111   xi Aql b       2.80   136.75000\n",
       "\n",
       "[32112 rows x 3 columns]"
      ]
     },
     "execution_count": 35,
     "metadata": {},
     "output_type": "execute_result"
    }
   ],
   "source": [
    "newSkep"
   ]
  },
  {
   "cell_type": "code",
   "execution_count": 36,
   "id": "43b4d3ed",
   "metadata": {},
   "outputs": [],
   "source": [
    "n = 0\n",
    "for row in newSkep['pl_bmassj']:\n",
    "    if row == -1:\n",
    "        newSkep.iloc[n, newSkep.columns.get_loc(\"pl_bmassj\")] = dfResultMass.iloc[n, dfResultMass.columns.get_loc(0)]\n",
    "    n += 1"
   ]
  },
  {
   "cell_type": "code",
   "execution_count": 37,
   "id": "e80228a8",
   "metadata": {},
   "outputs": [
    {
     "data": {
      "text/html": [
       "<div>\n",
       "<style scoped>\n",
       "    .dataframe tbody tr th:only-of-type {\n",
       "        vertical-align: middle;\n",
       "    }\n",
       "\n",
       "    .dataframe tbody tr th {\n",
       "        vertical-align: top;\n",
       "    }\n",
       "\n",
       "    .dataframe thead th {\n",
       "        text-align: right;\n",
       "    }\n",
       "</style>\n",
       "<table border=\"1\" class=\"dataframe\">\n",
       "  <thead>\n",
       "    <tr style=\"text-align: right;\">\n",
       "      <th></th>\n",
       "      <th>pl_name</th>\n",
       "      <th>pl_bmassj</th>\n",
       "      <th>pl_orbper</th>\n",
       "    </tr>\n",
       "  </thead>\n",
       "  <tbody>\n",
       "    <tr>\n",
       "      <th>0</th>\n",
       "      <td>11 Com b</td>\n",
       "      <td>19.40</td>\n",
       "      <td>326.03000</td>\n",
       "    </tr>\n",
       "    <tr>\n",
       "      <th>1</th>\n",
       "      <td>11 Com b</td>\n",
       "      <td>17.10</td>\n",
       "      <td>NaN</td>\n",
       "    </tr>\n",
       "    <tr>\n",
       "      <th>2</th>\n",
       "      <td>11 UMi b</td>\n",
       "      <td>10.80</td>\n",
       "      <td>NaN</td>\n",
       "    </tr>\n",
       "    <tr>\n",
       "      <th>3</th>\n",
       "      <td>11 UMi b</td>\n",
       "      <td>14.74</td>\n",
       "      <td>516.21997</td>\n",
       "    </tr>\n",
       "    <tr>\n",
       "      <th>4</th>\n",
       "      <td>11 UMi b</td>\n",
       "      <td>10.50</td>\n",
       "      <td>516.22000</td>\n",
       "    </tr>\n",
       "    <tr>\n",
       "      <th>...</th>\n",
       "      <td>...</td>\n",
       "      <td>...</td>\n",
       "      <td>...</td>\n",
       "    </tr>\n",
       "    <tr>\n",
       "      <th>32107</th>\n",
       "      <td>ups And d</td>\n",
       "      <td>4.10</td>\n",
       "      <td>1282.41000</td>\n",
       "    </tr>\n",
       "    <tr>\n",
       "      <th>32108</th>\n",
       "      <td>ups And d</td>\n",
       "      <td>10.25</td>\n",
       "      <td>1281.50700</td>\n",
       "    </tr>\n",
       "    <tr>\n",
       "      <th>32109</th>\n",
       "      <td>ups Leo b</td>\n",
       "      <td>0.51</td>\n",
       "      <td>385.20000</td>\n",
       "    </tr>\n",
       "    <tr>\n",
       "      <th>32110</th>\n",
       "      <td>xi Aql b</td>\n",
       "      <td>2.02</td>\n",
       "      <td>NaN</td>\n",
       "    </tr>\n",
       "    <tr>\n",
       "      <th>32111</th>\n",
       "      <td>xi Aql b</td>\n",
       "      <td>2.80</td>\n",
       "      <td>136.75000</td>\n",
       "    </tr>\n",
       "  </tbody>\n",
       "</table>\n",
       "<p>32112 rows × 3 columns</p>\n",
       "</div>"
      ],
      "text/plain": [
       "         pl_name  pl_bmassj   pl_orbper\n",
       "0       11 Com b      19.40   326.03000\n",
       "1       11 Com b      17.10         NaN\n",
       "2       11 UMi b      10.80         NaN\n",
       "3       11 UMi b      14.74   516.21997\n",
       "4       11 UMi b      10.50   516.22000\n",
       "...          ...        ...         ...\n",
       "32107  ups And d       4.10  1282.41000\n",
       "32108  ups And d      10.25  1281.50700\n",
       "32109  ups Leo b       0.51   385.20000\n",
       "32110   xi Aql b       2.02         NaN\n",
       "32111   xi Aql b       2.80   136.75000\n",
       "\n",
       "[32112 rows x 3 columns]"
      ]
     },
     "execution_count": 37,
     "metadata": {},
     "output_type": "execute_result"
    }
   ],
   "source": [
    "newSkep"
   ]
  },
  {
   "cell_type": "markdown",
   "id": "ea9878c4",
   "metadata": {},
   "source": [
    "We now repeat the process above but with our new completed data which has real + neural estimations"
   ]
  },
  {
   "cell_type": "code",
   "execution_count": 38,
   "id": "39edd32d",
   "metadata": {},
   "outputs": [
    {
     "data": {
      "text/plain": [
       "(32102, 10, 1)"
      ]
     },
     "execution_count": 38,
     "metadata": {},
     "output_type": "execute_result"
    }
   ],
   "source": [
    "testData =  newSkep\n",
    "testData['pl_bmassj'] = skep['pl_bmassj'].fillna(-1)\n",
    "testData = testData.iloc[:, lambda df: [1]]\n",
    "testData = testData.sort_index(ascending=False)\n",
    "y_test = testData.iloc[10:,0:].values \n",
    "#input array for the model\n",
    "inputClosing = testData.iloc[:,0:].values \n",
    "inputClosing_scaled = scaler.transform(inputClosing)\n",
    "inputClosing_scaled.shape\n",
    "X_test = []\n",
    "length = len(testData)\n",
    "timestep = 10\n",
    "for i in range(timestep,length):  \n",
    "    X_test.append(inputClosing_scaled[i-timestep:i,0])\n",
    "   # print(X_test)\n",
    "X_test = np.array(X_test)\n",
    "X_test = np.reshape(X_test,(X_test.shape[0],X_test.shape[1],1))\n",
    "X_test.shape"
   ]
  },
  {
   "cell_type": "code",
   "execution_count": 39,
   "id": "c5e01bbb",
   "metadata": {},
   "outputs": [],
   "source": [
    "y_pred = regressor.predict(X_test)"
   ]
  },
  {
   "cell_type": "code",
   "execution_count": 40,
   "id": "433b86d6",
   "metadata": {},
   "outputs": [
    {
     "name": "stdout",
     "output_type": "stream",
     "text": [
      "(4124, 10, 1)\n",
      "[[ 6.9583163]\n",
      " [ 2.8429842]\n",
      " [ 4.553269 ]\n",
      " ...\n",
      " [ 0.8853611]\n",
      " [ 5.092422 ]\n",
      " [12.966175 ]]\n"
     ]
    }
   ],
   "source": [
    "y_pred = np.reshape(y_pred,(y_pred.shape[0],y_pred.shape[1]))\n",
    "print(X_train.shape)\n",
    "pred_massj = scaler.inverse_transform(y_pred)\n",
    "print((pred_massj))"
   ]
  },
  {
   "cell_type": "code",
   "execution_count": 41,
   "id": "7f385dba",
   "metadata": {},
   "outputs": [
    {
     "data": {
      "image/png": "[encoded data removed]",
      "text/plain": [
       "<Figure size 720x720 with 1 Axes>"
      ]
     },
     "metadata": {
      "needs_background": "light"
     },
     "output_type": "display_data"
    }
   ],
   "source": [
    "plt.plot(y_test, color = 'red', label = 'Actual Planetary Mass*')\n",
    "plt.plot(pred_massj, color = 'green', label = 'Predicted Plantary Mass')\n",
    "plt.title('Planetary Mass')\n",
    "plt.xlabel('Planets')\n",
    "plt.ylabel('Mass in Jupters')\n",
    "plt.gcf().set_size_inches((10, 10))\n",
    "plt.legend()\n",
    "plt.show()"
   ]
  },
  {
   "cell_type": "markdown",
   "id": "6dadf4c4",
   "metadata": {},
   "source": [
    "Now we are ready to see the ratio of hot vs cold jupiters with interpolated data. So we calculate the hot and cold jupiter percentages like before but now using our filled in data."
   ]
  },
  {
   "cell_type": "markdown",
   "id": "71be4d36",
   "metadata": {},
   "source": [
    "We decided to drop the oribital period nans and focus on interpolating masses. At only about 8% the statisical impact is not massive and most of the time things will trend toward the middle on a data set this large anyway."
   ]
  },
  {
   "cell_type": "code",
   "execution_count": 42,
   "id": "abac2684",
   "metadata": {},
   "outputs": [
    {
     "data": {
      "text/html": [
       "<div>\n",
       "<style scoped>\n",
       "    .dataframe tbody tr th:only-of-type {\n",
       "        vertical-align: middle;\n",
       "    }\n",
       "\n",
       "    .dataframe tbody tr th {\n",
       "        vertical-align: top;\n",
       "    }\n",
       "\n",
       "    .dataframe thead th {\n",
       "        text-align: right;\n",
       "    }\n",
       "</style>\n",
       "<table border=\"1\" class=\"dataframe\">\n",
       "  <thead>\n",
       "    <tr style=\"text-align: right;\">\n",
       "      <th></th>\n",
       "      <th>pl_name</th>\n",
       "      <th>pl_bmassj</th>\n",
       "      <th>pl_orbper</th>\n",
       "    </tr>\n",
       "  </thead>\n",
       "  <tbody>\n",
       "    <tr>\n",
       "      <th>27</th>\n",
       "      <td>24 Boo b</td>\n",
       "      <td>0.9100</td>\n",
       "      <td>30.350600</td>\n",
       "    </tr>\n",
       "    <tr>\n",
       "      <th>59</th>\n",
       "      <td>51 Peg b</td>\n",
       "      <td>0.4640</td>\n",
       "      <td>4.230797</td>\n",
       "    </tr>\n",
       "    <tr>\n",
       "      <th>60</th>\n",
       "      <td>51 Peg b</td>\n",
       "      <td>0.4720</td>\n",
       "      <td>4.230785</td>\n",
       "    </tr>\n",
       "    <tr>\n",
       "      <th>61</th>\n",
       "      <td>51 Peg b</td>\n",
       "      <td>0.4680</td>\n",
       "      <td>4.230770</td>\n",
       "    </tr>\n",
       "    <tr>\n",
       "      <th>62</th>\n",
       "      <td>51 Peg b</td>\n",
       "      <td>0.4600</td>\n",
       "      <td>4.231000</td>\n",
       "    </tr>\n",
       "    <tr>\n",
       "      <th>...</th>\n",
       "      <td>...</td>\n",
       "      <td>...</td>\n",
       "      <td>...</td>\n",
       "    </tr>\n",
       "    <tr>\n",
       "      <th>32092</th>\n",
       "      <td>ups And b</td>\n",
       "      <td>0.6800</td>\n",
       "      <td>4.611000</td>\n",
       "    </tr>\n",
       "    <tr>\n",
       "      <th>32093</th>\n",
       "      <td>ups And b</td>\n",
       "      <td>0.6900</td>\n",
       "      <td>4.617080</td>\n",
       "    </tr>\n",
       "    <tr>\n",
       "      <th>32094</th>\n",
       "      <td>ups And b</td>\n",
       "      <td>0.6720</td>\n",
       "      <td>4.617136</td>\n",
       "    </tr>\n",
       "    <tr>\n",
       "      <th>32095</th>\n",
       "      <td>ups And b</td>\n",
       "      <td>0.6750</td>\n",
       "      <td>4.617122</td>\n",
       "    </tr>\n",
       "    <tr>\n",
       "      <th>32096</th>\n",
       "      <td>ups And b</td>\n",
       "      <td>0.6876</td>\n",
       "      <td>4.617033</td>\n",
       "    </tr>\n",
       "  </tbody>\n",
       "</table>\n",
       "<p>2951 rows × 3 columns</p>\n",
       "</div>"
      ],
      "text/plain": [
       "         pl_name  pl_bmassj  pl_orbper\n",
       "27      24 Boo b     0.9100  30.350600\n",
       "59      51 Peg b     0.4640   4.230797\n",
       "60      51 Peg b     0.4720   4.230785\n",
       "61      51 Peg b     0.4680   4.230770\n",
       "62      51 Peg b     0.4600   4.231000\n",
       "...          ...        ...        ...\n",
       "32092  ups And b     0.6800   4.611000\n",
       "32093  ups And b     0.6900   4.617080\n",
       "32094  ups And b     0.6720   4.617136\n",
       "32095  ups And b     0.6750   4.617122\n",
       "32096  ups And b     0.6876   4.617033\n",
       "\n",
       "[2951 rows x 3 columns]"
      ]
     },
     "execution_count": 42,
     "metadata": {},
     "output_type": "execute_result"
    }
   ],
   "source": [
    "#Calc hot jupiters\n",
    "newSkep = newSkep.dropna()\n",
    "skepFinalHot = newSkep[newSkep['pl_bmassj'] > 0.3] #jupiter mass\n",
    "skepFinalHot = skepFinalHot[skepFinalHot['pl_bmassj'] < 13] #gets rid of brown dwarfs which are 13 jupiter masses or higher\n",
    "skepFinalHot = skepFinalHot[skepFinalHot['pl_orbper'] <= 100] #orbital period\n",
    "skepFinalHot"
   ]
  },
  {
   "cell_type": "code",
   "execution_count": 43,
   "id": "079a0d09",
   "metadata": {},
   "outputs": [
    {
     "data": {
      "text/html": [
       "<div>\n",
       "<style scoped>\n",
       "    .dataframe tbody tr th:only-of-type {\n",
       "        vertical-align: middle;\n",
       "    }\n",
       "\n",
       "    .dataframe tbody tr th {\n",
       "        vertical-align: top;\n",
       "    }\n",
       "\n",
       "    .dataframe thead th {\n",
       "        text-align: right;\n",
       "    }\n",
       "</style>\n",
       "<table border=\"1\" class=\"dataframe\">\n",
       "  <thead>\n",
       "    <tr style=\"text-align: right;\">\n",
       "      <th></th>\n",
       "      <th>pl_name</th>\n",
       "      <th>pl_bmassj</th>\n",
       "      <th>pl_orbper</th>\n",
       "    </tr>\n",
       "  </thead>\n",
       "  <tbody>\n",
       "    <tr>\n",
       "      <th>4</th>\n",
       "      <td>11 UMi b</td>\n",
       "      <td>10.500</td>\n",
       "      <td>516.220</td>\n",
       "    </tr>\n",
       "    <tr>\n",
       "      <th>6</th>\n",
       "      <td>14 And b</td>\n",
       "      <td>4.800</td>\n",
       "      <td>185.840</td>\n",
       "    </tr>\n",
       "    <tr>\n",
       "      <th>7</th>\n",
       "      <td>14 Her b</td>\n",
       "      <td>4.850</td>\n",
       "      <td>1766.410</td>\n",
       "    </tr>\n",
       "    <tr>\n",
       "      <th>8</th>\n",
       "      <td>14 Her b</td>\n",
       "      <td>4.890</td>\n",
       "      <td>1724.000</td>\n",
       "    </tr>\n",
       "    <tr>\n",
       "      <th>9</th>\n",
       "      <td>14 Her b</td>\n",
       "      <td>4.975</td>\n",
       "      <td>1766.000</td>\n",
       "    </tr>\n",
       "    <tr>\n",
       "      <th>...</th>\n",
       "      <td>...</td>\n",
       "      <td>...</td>\n",
       "      <td>...</td>\n",
       "    </tr>\n",
       "    <tr>\n",
       "      <th>32106</th>\n",
       "      <td>ups And d</td>\n",
       "      <td>3.950</td>\n",
       "      <td>1274.600</td>\n",
       "    </tr>\n",
       "    <tr>\n",
       "      <th>32107</th>\n",
       "      <td>ups And d</td>\n",
       "      <td>4.100</td>\n",
       "      <td>1282.410</td>\n",
       "    </tr>\n",
       "    <tr>\n",
       "      <th>32108</th>\n",
       "      <td>ups And d</td>\n",
       "      <td>10.250</td>\n",
       "      <td>1281.507</td>\n",
       "    </tr>\n",
       "    <tr>\n",
       "      <th>32109</th>\n",
       "      <td>ups Leo b</td>\n",
       "      <td>0.510</td>\n",
       "      <td>385.200</td>\n",
       "    </tr>\n",
       "    <tr>\n",
       "      <th>32111</th>\n",
       "      <td>xi Aql b</td>\n",
       "      <td>2.800</td>\n",
       "      <td>136.750</td>\n",
       "    </tr>\n",
       "  </tbody>\n",
       "</table>\n",
       "<p>1209 rows × 3 columns</p>\n",
       "</div>"
      ],
      "text/plain": [
       "         pl_name  pl_bmassj  pl_orbper\n",
       "4       11 UMi b     10.500    516.220\n",
       "6       14 And b      4.800    185.840\n",
       "7       14 Her b      4.850   1766.410\n",
       "8       14 Her b      4.890   1724.000\n",
       "9       14 Her b      4.975   1766.000\n",
       "...          ...        ...        ...\n",
       "32106  ups And d      3.950   1274.600\n",
       "32107  ups And d      4.100   1282.410\n",
       "32108  ups And d     10.250   1281.507\n",
       "32109  ups Leo b      0.510    385.200\n",
       "32111   xi Aql b      2.800    136.750\n",
       "\n",
       "[1209 rows x 3 columns]"
      ]
     },
     "execution_count": 43,
     "metadata": {},
     "output_type": "execute_result"
    }
   ],
   "source": [
    "#Calc Cold\n",
    "newSkep = newSkep.dropna()\n",
    "skepFinalCold = newSkep[newSkep['pl_bmassj'] > 0.3] #jupiter mass\n",
    "skepFinalCold = skepFinalCold[skepFinalCold['pl_bmassj'] < 13] #gets rid of brown dwarfs which are 13 jupiter masses or higher\n",
    "skepFinalCold = skepFinalCold[skepFinalCold['pl_orbper'] > 100] #orbital period\n",
    "skepFinalCold"
   ]
  },
  {
   "cell_type": "markdown",
   "id": "6e3fea75",
   "metadata": {},
   "source": [
    "Final Graph with our interpolated much better data and our same general trend as before was found but hot is actually way more common than cold jupiters"
   ]
  },
  {
   "cell_type": "code",
   "execution_count": 44,
   "id": "891360c0",
   "metadata": {},
   "outputs": [
    {
     "data": {
      "image/png": "[encoded data removed]",
      "text/plain": [
       "<Figure size 720x720 with 1 Axes>"
      ]
     },
     "metadata": {},
     "output_type": "display_data"
    }
   ],
   "source": [
    "dataFinal = len(newSkep)\n",
    "cjFinal = len(skepFinalCold)\n",
    "hjFinal = len(skepFinalHot)\n",
    "a = cjFinal/dataFinal\n",
    "b = hjFinal/dataFinal\n",
    "c = (data-(cj+hj))/len(newSkep)\n",
    "y = np.array([a, b, c])\n",
    "plt.pie(y, explode=[0.2,0.2,0], labels=['cold jupiters', 'hot jupiters', 'kepler non jupiter class planets'], shadow = True, autopct='%1.1f%%')\n",
    "plt.gcf().set_size_inches((10, 10))\n",
    "plt.show()"
   ]
  },
  {
   "cell_type": "code",
   "execution_count": 45,
   "id": "5d50b3bc",
   "metadata": {},
   "outputs": [
    {
     "data": {
      "image/png": "[encoded data removed]",
      "text/plain": [
       "<Figure size 720x720 with 1 Axes>"
      ]
     },
     "metadata": {
      "needs_background": "light"
     },
     "output_type": "display_data"
    }
   ],
   "source": [
    "skepFinalCold2 = skepFinalCold[skepFinalCold['pl_orbper'] < 1790000.0]\n",
    "plt.scatter(skepFinalCold2['pl_bmassj'], skepFinalCold2['pl_orbper'])\n",
    "plt.xlabel('jupiter mass (MJup)')\n",
    "plt.ylabel('orbital radius (days)')\n",
    "plt.title('Cold Jupiters')\n",
    "plt.gcf().set_size_inches((10, 10))\n",
    "plt.show() "
   ]
  },
  {
   "cell_type": "code",
   "execution_count": 46,
   "id": "d500c1bd",
   "metadata": {},
   "outputs": [
    {
     "data": {
      "image/png": "[encoded data removed]",
      "text/plain": [
       "<Figure size 720x720 with 1 Axes>"
      ]
     },
     "metadata": {
      "needs_background": "light"
     },
     "output_type": "display_data"
    }
   ],
   "source": [
    "plt.scatter(skepFinalHot['pl_bmassj'], skepFinalHot['pl_orbper'], c = 'red')\n",
    "plt.xlabel('jupiter mass (MJup)')\n",
    "plt.ylabel('orbital radius (days)')\n",
    "plt.title('Hot Jupiters')\n",
    "plt.gcf().set_size_inches((10, 10))\n",
    "plt.show() "
   ]
  },
  {
   "cell_type": "code",
   "execution_count": 47,
   "id": "d4166656",
   "metadata": {},
   "outputs": [
    {
     "data": {
      "image/png": "[encoded data removed]",
      "text/plain": [
       "<Figure size 720x720 with 1 Axes>"
      ]
     },
     "metadata": {
      "needs_background": "light"
     },
     "output_type": "display_data"
    }
   ],
   "source": [
    "plt.scatter(skepFinalCold2['pl_bmassj'], skepFinalCold2['pl_orbper'], label = 'cold')\n",
    "plt.scatter(skepFinalHot['pl_bmassj'], skepFinalHot['pl_orbper'], c = 'red', label = 'hot')\n",
    "plt.xlabel('jupiter mass (MJup)')\n",
    "plt.ylabel('orbital radius (days)')\n",
    "plt.title('Hot and Cold Jupiters')\n",
    "plt.legend(loc='upper left')\n",
    "plt.gcf().set_size_inches((10, 10))\n",
    "plt.show() "
   ]
  },
  {
   "cell_type": "markdown",
   "id": "b35dc0d1",
   "metadata": {},
   "source": [
    "So Final Conclusion time. We basically repeated a more extreme version of our earlier results and actually refuted the findings of the paper but the paper only looked at a sample size of 38 exoplanets, whereas our project sets out to look at all of the exoplanets in the Kepler data base. The entire kepler data base minus the 8% or so things without known orbital periods we dropped and did not interpolate back is over 30000, so quite literally almost 1000x"
   ]
  },
  {
   "cell_type": "code",
   "execution_count": null,
   "id": "0a8ba6fb",
   "metadata": {},
   "outputs": [],
   "source": []
  }
 ],
 "metadata": {
  "kernelspec": {
   "display_name": "tf-gpu",
   "language": "python",
   "name": "tf-gpu"
  },
  "language_info": {
   "codemirror_mode": {
    "name": "ipython",
    "version": 3
   },
   "file_extension": ".py",
   "mimetype": "text/x-python",
   "name": "python",
   "nbconvert_exporter": "python",
   "pygments_lexer": "ipython3",
   "version": "3.9.7"
  }
 },
 "nbformat": 4,
 "nbformat_minor": 5
}
